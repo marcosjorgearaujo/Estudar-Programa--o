{
 "cells": [
  {
   "cell_type": "markdown",
   "id": "0c2bece8",
   "metadata": {},
   "source": [
    "# Create a simple vector"
   ]
  },
  {
   "cell_type": "code",
   "execution_count": 11,
   "id": "9af6aff9",
   "metadata": {
    "scrolled": true
   },
   "outputs": [
    {
     "data": {
      "text/html": [
       "<ol class=list-inline>\n",
       "\t<li>1</li>\n",
       "\t<li>2</li>\n",
       "\t<li>3</li>\n",
       "\t<li>4</li>\n",
       "</ol>\n"
      ],
      "text/latex": [
       "\\begin{enumerate*}\n",
       "\\item 1\n",
       "\\item 2\n",
       "\\item 3\n",
       "\\item 4\n",
       "\\end{enumerate*}\n"
      ],
      "text/markdown": [
       "1. 1\n",
       "2. 2\n",
       "3. 3\n",
       "4. 4\n",
       "\n",
       "\n"
      ],
      "text/plain": [
       "[1] 1 2 3 4"
      ]
     },
     "metadata": {},
     "output_type": "display_data"
    }
   ],
   "source": [
    "numbers <- c(1,2,3,4)\n",
    "numbers"
   ]
  },
  {
   "cell_type": "code",
   "execution_count": 13,
   "id": "fc517e08",
   "metadata": {},
   "outputs": [
    {
     "data": {
      "text/html": [
       "<ol class=list-inline>\n",
       "\t<li>'João'</li>\n",
       "\t<li>'Maria'</li>\n",
       "\t<li>'Pedro'</li>\n",
       "\t<li>'Paula'</li>\n",
       "</ol>\n"
      ],
      "text/latex": [
       "\\begin{enumerate*}\n",
       "\\item 'João'\n",
       "\\item 'Maria'\n",
       "\\item 'Pedro'\n",
       "\\item 'Paula'\n",
       "\\end{enumerate*}\n"
      ],
      "text/markdown": [
       "1. 'João'\n",
       "2. 'Maria'\n",
       "3. 'Pedro'\n",
       "4. 'Paula'\n",
       "\n",
       "\n"
      ],
      "text/plain": [
       "[1] \"João\"  \"Maria\" \"Pedro\" \"Paula\""
      ]
     },
     "metadata": {},
     "output_type": "display_data"
    }
   ],
   "source": [
    "people <- c(\"João\", \"Maria\", \"Pedro\", \"Paula\")\n",
    "people"
   ]
  },
  {
   "cell_type": "code",
   "execution_count": 16,
   "id": "7ca52d30",
   "metadata": {},
   "outputs": [
    {
     "data": {
      "text/html": [
       "<ol class=list-inline>\n",
       "\t<li>TRUE</li>\n",
       "\t<li>FALSE</li>\n",
       "\t<li>TRUE</li>\n",
       "\t<li>TRUE</li>\n",
       "\t<li>FALSE</li>\n",
       "\t<li>FALSE</li>\n",
       "</ol>\n"
      ],
      "text/latex": [
       "\\begin{enumerate*}\n",
       "\\item TRUE\n",
       "\\item FALSE\n",
       "\\item TRUE\n",
       "\\item TRUE\n",
       "\\item FALSE\n",
       "\\item FALSE\n",
       "\\end{enumerate*}\n"
      ],
      "text/markdown": [
       "1. TRUE\n",
       "2. FALSE\n",
       "3. TRUE\n",
       "4. TRUE\n",
       "5. FALSE\n",
       "6. FALSE\n",
       "\n",
       "\n"
      ],
      "text/plain": [
       "[1]  TRUE FALSE  TRUE  TRUE FALSE FALSE"
      ]
     },
     "metadata": {},
     "output_type": "display_data"
    }
   ],
   "source": [
    "logic <- c(TRUE, FALSE, TRUE, TRUE, FALSE, FALSE)\n",
    "logic"
   ]
  },
  {
   "cell_type": "code",
   "execution_count": 24,
   "id": "85e8119d",
   "metadata": {},
   "outputs": [
    {
     "name": "stdout",
     "output_type": "stream",
     "text": [
      "[1] \"numeric\"\n",
      "[1] \"character\"\n",
      "[1] \"logical\"\n"
     ]
    }
   ],
   "source": [
    "print(class(numbers))\n",
    "print(class(people))\n",
    "print(class(logic))"
   ]
  },
  {
   "cell_type": "code",
   "execution_count": 26,
   "id": "41e1fa68",
   "metadata": {},
   "outputs": [
    {
     "data": {
      "text/html": [
       "<ol class=list-inline>\n",
       "\t<li>TRUE</li>\n",
       "\t<li>FALSE</li>\n",
       "\t<li>TRUE</li>\n",
       "\t<li>FALSE</li>\n",
       "\t<li>FALSE</li>\n",
       "\t<li>FALSE</li>\n",
       "</ol>\n"
      ],
      "text/latex": [
       "\\begin{enumerate*}\n",
       "\\item TRUE\n",
       "\\item FALSE\n",
       "\\item TRUE\n",
       "\\item FALSE\n",
       "\\item FALSE\n",
       "\\item FALSE\n",
       "\\end{enumerate*}\n"
      ],
      "text/markdown": [
       "1. TRUE\n",
       "2. FALSE\n",
       "3. TRUE\n",
       "4. FALSE\n",
       "5. FALSE\n",
       "6. FALSE\n",
       "\n",
       "\n"
      ],
      "text/plain": [
       "[1]  TRUE FALSE  TRUE FALSE FALSE FALSE"
      ]
     },
     "metadata": {},
     "output_type": "display_data"
    }
   ],
   "source": [
    "logic_2 <- c(T, F, T, F, F, F)\n",
    "logic_2"
   ]
  },
  {
   "cell_type": "markdown",
   "id": "f9dd6282",
   "metadata": {},
   "source": [
    "# Get length"
   ]
  },
  {
   "cell_type": "code",
   "execution_count": 27,
   "id": "b7e04c0f",
   "metadata": {},
   "outputs": [
    {
     "data": {
      "text/html": [
       "4"
      ],
      "text/latex": [
       "4"
      ],
      "text/markdown": [
       "4"
      ],
      "text/plain": [
       "[1] 4"
      ]
     },
     "metadata": {},
     "output_type": "display_data"
    }
   ],
   "source": [
    "length(numbers)"
   ]
  },
  {
   "cell_type": "code",
   "execution_count": 28,
   "id": "7d77e9de",
   "metadata": {},
   "outputs": [
    {
     "data": {
      "text/html": [
       "4"
      ],
      "text/latex": [
       "4"
      ],
      "text/markdown": [
       "4"
      ],
      "text/plain": [
       "[1] 4"
      ]
     },
     "metadata": {},
     "output_type": "display_data"
    }
   ],
   "source": [
    "length(people)"
   ]
  },
  {
   "cell_type": "code",
   "execution_count": 29,
   "id": "a23cba3f",
   "metadata": {},
   "outputs": [
    {
     "data": {
      "text/html": [
       "6"
      ],
      "text/latex": [
       "6"
      ],
      "text/markdown": [
       "6"
      ],
      "text/plain": [
       "[1] 6"
      ]
     },
     "metadata": {},
     "output_type": "display_data"
    }
   ],
   "source": [
    "length(logic)"
   ]
  },
  {
   "cell_type": "markdown",
   "id": "34093e82",
   "metadata": {},
   "source": [
    "# Create a sequence"
   ]
  },
  {
   "cell_type": "code",
   "execution_count": 33,
   "id": "eae5a7af",
   "metadata": {},
   "outputs": [
    {
     "data": {
      "text/html": [
       "<ol class=list-inline>\n",
       "\t<li>1</li>\n",
       "\t<li>2</li>\n",
       "\t<li>3</li>\n",
       "\t<li>4</li>\n",
       "\t<li>5</li>\n",
       "\t<li>6</li>\n",
       "\t<li>7</li>\n",
       "\t<li>8</li>\n",
       "\t<li>9</li>\n",
       "\t<li>10</li>\n",
       "</ol>\n"
      ],
      "text/latex": [
       "\\begin{enumerate*}\n",
       "\\item 1\n",
       "\\item 2\n",
       "\\item 3\n",
       "\\item 4\n",
       "\\item 5\n",
       "\\item 6\n",
       "\\item 7\n",
       "\\item 8\n",
       "\\item 9\n",
       "\\item 10\n",
       "\\end{enumerate*}\n"
      ],
      "text/markdown": [
       "1. 1\n",
       "2. 2\n",
       "3. 3\n",
       "4. 4\n",
       "5. 5\n",
       "6. 6\n",
       "7. 7\n",
       "8. 8\n",
       "9. 9\n",
       "10. 10\n",
       "\n",
       "\n"
      ],
      "text/plain": [
       " [1]  1  2  3  4  5  6  7  8  9 10"
      ]
     },
     "metadata": {},
     "output_type": "display_data"
    }
   ],
   "source": [
    "sequence <- c(1:10)\n",
    "sequence"
   ]
  },
  {
   "cell_type": "code",
   "execution_count": 35,
   "id": "0e5d6f2b",
   "metadata": {},
   "outputs": [
    {
     "data": {
      "text/html": [
       "<ol class=list-inline>\n",
       "\t<li>500</li>\n",
       "\t<li>501</li>\n",
       "\t<li>502</li>\n",
       "\t<li>503</li>\n",
       "\t<li>504</li>\n",
       "\t<li>505</li>\n",
       "\t<li>506</li>\n",
       "\t<li>507</li>\n",
       "\t<li>508</li>\n",
       "\t<li>509</li>\n",
       "\t<li>510</li>\n",
       "\t<li>511</li>\n",
       "\t<li>512</li>\n",
       "\t<li>513</li>\n",
       "\t<li>514</li>\n",
       "\t<li>515</li>\n",
       "\t<li>516</li>\n",
       "\t<li>517</li>\n",
       "\t<li>518</li>\n",
       "\t<li>519</li>\n",
       "\t<li>520</li>\n",
       "\t<li>521</li>\n",
       "\t<li>522</li>\n",
       "\t<li>523</li>\n",
       "\t<li>524</li>\n",
       "\t<li>525</li>\n",
       "\t<li>526</li>\n",
       "\t<li>527</li>\n",
       "\t<li>528</li>\n",
       "\t<li>529</li>\n",
       "\t<li>530</li>\n",
       "\t<li>531</li>\n",
       "\t<li>532</li>\n",
       "\t<li>533</li>\n",
       "\t<li>534</li>\n",
       "\t<li>535</li>\n",
       "\t<li>536</li>\n",
       "\t<li>537</li>\n",
       "\t<li>538</li>\n",
       "\t<li>539</li>\n",
       "\t<li>540</li>\n",
       "\t<li>541</li>\n",
       "\t<li>542</li>\n",
       "\t<li>543</li>\n",
       "\t<li>544</li>\n",
       "\t<li>545</li>\n",
       "\t<li>546</li>\n",
       "\t<li>547</li>\n",
       "\t<li>548</li>\n",
       "\t<li>549</li>\n",
       "\t<li>550</li>\n",
       "\t<li>551</li>\n",
       "\t<li>552</li>\n",
       "\t<li>553</li>\n",
       "\t<li>554</li>\n",
       "\t<li>555</li>\n",
       "\t<li>556</li>\n",
       "\t<li>557</li>\n",
       "\t<li>558</li>\n",
       "\t<li>559</li>\n",
       "\t<li>560</li>\n",
       "\t<li>561</li>\n",
       "\t<li>562</li>\n",
       "\t<li>563</li>\n",
       "\t<li>564</li>\n",
       "\t<li>565</li>\n",
       "\t<li>566</li>\n",
       "\t<li>567</li>\n",
       "\t<li>568</li>\n",
       "\t<li>569</li>\n",
       "\t<li>570</li>\n",
       "\t<li>571</li>\n",
       "\t<li>572</li>\n",
       "\t<li>573</li>\n",
       "\t<li>574</li>\n",
       "\t<li>575</li>\n",
       "\t<li>576</li>\n",
       "\t<li>577</li>\n",
       "\t<li>578</li>\n",
       "\t<li>579</li>\n",
       "\t<li>580</li>\n",
       "\t<li>581</li>\n",
       "\t<li>582</li>\n",
       "\t<li>583</li>\n",
       "\t<li>584</li>\n",
       "\t<li>585</li>\n",
       "\t<li>586</li>\n",
       "\t<li>587</li>\n",
       "\t<li>588</li>\n",
       "\t<li>589</li>\n",
       "\t<li>590</li>\n",
       "\t<li>591</li>\n",
       "\t<li>592</li>\n",
       "\t<li>593</li>\n",
       "\t<li>594</li>\n",
       "\t<li>595</li>\n",
       "\t<li>596</li>\n",
       "\t<li>597</li>\n",
       "\t<li>598</li>\n",
       "\t<li>599</li>\n",
       "\t<li>600</li>\n",
       "</ol>\n"
      ],
      "text/latex": [
       "\\begin{enumerate*}\n",
       "\\item 500\n",
       "\\item 501\n",
       "\\item 502\n",
       "\\item 503\n",
       "\\item 504\n",
       "\\item 505\n",
       "\\item 506\n",
       "\\item 507\n",
       "\\item 508\n",
       "\\item 509\n",
       "\\item 510\n",
       "\\item 511\n",
       "\\item 512\n",
       "\\item 513\n",
       "\\item 514\n",
       "\\item 515\n",
       "\\item 516\n",
       "\\item 517\n",
       "\\item 518\n",
       "\\item 519\n",
       "\\item 520\n",
       "\\item 521\n",
       "\\item 522\n",
       "\\item 523\n",
       "\\item 524\n",
       "\\item 525\n",
       "\\item 526\n",
       "\\item 527\n",
       "\\item 528\n",
       "\\item 529\n",
       "\\item 530\n",
       "\\item 531\n",
       "\\item 532\n",
       "\\item 533\n",
       "\\item 534\n",
       "\\item 535\n",
       "\\item 536\n",
       "\\item 537\n",
       "\\item 538\n",
       "\\item 539\n",
       "\\item 540\n",
       "\\item 541\n",
       "\\item 542\n",
       "\\item 543\n",
       "\\item 544\n",
       "\\item 545\n",
       "\\item 546\n",
       "\\item 547\n",
       "\\item 548\n",
       "\\item 549\n",
       "\\item 550\n",
       "\\item 551\n",
       "\\item 552\n",
       "\\item 553\n",
       "\\item 554\n",
       "\\item 555\n",
       "\\item 556\n",
       "\\item 557\n",
       "\\item 558\n",
       "\\item 559\n",
       "\\item 560\n",
       "\\item 561\n",
       "\\item 562\n",
       "\\item 563\n",
       "\\item 564\n",
       "\\item 565\n",
       "\\item 566\n",
       "\\item 567\n",
       "\\item 568\n",
       "\\item 569\n",
       "\\item 570\n",
       "\\item 571\n",
       "\\item 572\n",
       "\\item 573\n",
       "\\item 574\n",
       "\\item 575\n",
       "\\item 576\n",
       "\\item 577\n",
       "\\item 578\n",
       "\\item 579\n",
       "\\item 580\n",
       "\\item 581\n",
       "\\item 582\n",
       "\\item 583\n",
       "\\item 584\n",
       "\\item 585\n",
       "\\item 586\n",
       "\\item 587\n",
       "\\item 588\n",
       "\\item 589\n",
       "\\item 590\n",
       "\\item 591\n",
       "\\item 592\n",
       "\\item 593\n",
       "\\item 594\n",
       "\\item 595\n",
       "\\item 596\n",
       "\\item 597\n",
       "\\item 598\n",
       "\\item 599\n",
       "\\item 600\n",
       "\\end{enumerate*}\n"
      ],
      "text/markdown": [
       "1. 500\n",
       "2. 501\n",
       "3. 502\n",
       "4. 503\n",
       "5. 504\n",
       "6. 505\n",
       "7. 506\n",
       "8. 507\n",
       "9. 508\n",
       "10. 509\n",
       "11. 510\n",
       "12. 511\n",
       "13. 512\n",
       "14. 513\n",
       "15. 514\n",
       "16. 515\n",
       "17. 516\n",
       "18. 517\n",
       "19. 518\n",
       "20. 519\n",
       "21. 520\n",
       "22. 521\n",
       "23. 522\n",
       "24. 523\n",
       "25. 524\n",
       "26. 525\n",
       "27. 526\n",
       "28. 527\n",
       "29. 528\n",
       "30. 529\n",
       "31. 530\n",
       "32. 531\n",
       "33. 532\n",
       "34. 533\n",
       "35. 534\n",
       "36. 535\n",
       "37. 536\n",
       "38. 537\n",
       "39. 538\n",
       "40. 539\n",
       "41. 540\n",
       "42. 541\n",
       "43. 542\n",
       "44. 543\n",
       "45. 544\n",
       "46. 545\n",
       "47. 546\n",
       "48. 547\n",
       "49. 548\n",
       "50. 549\n",
       "51. 550\n",
       "52. 551\n",
       "53. 552\n",
       "54. 553\n",
       "55. 554\n",
       "56. 555\n",
       "57. 556\n",
       "58. 557\n",
       "59. 558\n",
       "60. 559\n",
       "61. 560\n",
       "62. 561\n",
       "63. 562\n",
       "64. 563\n",
       "65. 564\n",
       "66. 565\n",
       "67. 566\n",
       "68. 567\n",
       "69. 568\n",
       "70. 569\n",
       "71. 570\n",
       "72. 571\n",
       "73. 572\n",
       "74. 573\n",
       "75. 574\n",
       "76. 575\n",
       "77. 576\n",
       "78. 577\n",
       "79. 578\n",
       "80. 579\n",
       "81. 580\n",
       "82. 581\n",
       "83. 582\n",
       "84. 583\n",
       "85. 584\n",
       "86. 585\n",
       "87. 586\n",
       "88. 587\n",
       "89. 588\n",
       "90. 589\n",
       "91. 590\n",
       "92. 591\n",
       "93. 592\n",
       "94. 593\n",
       "95. 594\n",
       "96. 595\n",
       "97. 596\n",
       "98. 597\n",
       "99. 598\n",
       "100. 599\n",
       "101. 600\n",
       "\n",
       "\n"
      ],
      "text/plain": [
       "  [1] 500 501 502 503 504 505 506 507 508 509 510 511 512 513 514 515 516 517\n",
       " [19] 518 519 520 521 522 523 524 525 526 527 528 529 530 531 532 533 534 535\n",
       " [37] 536 537 538 539 540 541 542 543 544 545 546 547 548 549 550 551 552 553\n",
       " [55] 554 555 556 557 558 559 560 561 562 563 564 565 566 567 568 569 570 571\n",
       " [73] 572 573 574 575 576 577 578 579 580 581 582 583 584 585 586 587 588 589\n",
       " [91] 590 591 592 593 594 595 596 597 598 599 600"
      ]
     },
     "metadata": {},
     "output_type": "display_data"
    }
   ],
   "source": [
    "sequence <- c(500:600)\n",
    "sequence"
   ]
  },
  {
   "cell_type": "code",
   "execution_count": 38,
   "id": "6c583c04",
   "metadata": {},
   "outputs": [
    {
     "data": {
      "text/html": [
       "<ol class=list-inline>\n",
       "\t<li>'1'</li>\n",
       "\t<li>'2'</li>\n",
       "\t<li>'3'</li>\n",
       "\t<li>'Azul'</li>\n",
       "\t<li>'Verde'</li>\n",
       "\t<li>'Vermelho'</li>\n",
       "\t<li>'TRUE'</li>\n",
       "\t<li>'FALSE'</li>\n",
       "\t<li>'TRUE'</li>\n",
       "</ol>\n"
      ],
      "text/latex": [
       "\\begin{enumerate*}\n",
       "\\item '1'\n",
       "\\item '2'\n",
       "\\item '3'\n",
       "\\item 'Azul'\n",
       "\\item 'Verde'\n",
       "\\item 'Vermelho'\n",
       "\\item 'TRUE'\n",
       "\\item 'FALSE'\n",
       "\\item 'TRUE'\n",
       "\\end{enumerate*}\n"
      ],
      "text/markdown": [
       "1. '1'\n",
       "2. '2'\n",
       "3. '3'\n",
       "4. 'Azul'\n",
       "5. 'Verde'\n",
       "6. 'Vermelho'\n",
       "7. 'TRUE'\n",
       "8. 'FALSE'\n",
       "9. 'TRUE'\n",
       "\n",
       "\n"
      ],
      "text/plain": [
       "[1] \"1\"        \"2\"        \"3\"        \"Azul\"     \"Verde\"    \"Vermelho\" \"TRUE\"    \n",
       "[8] \"FALSE\"    \"TRUE\"    "
      ]
     },
     "metadata": {},
     "output_type": "display_data"
    }
   ],
   "source": [
    "several_1 <- c(1, 2, 3, \"Azul\", \"Verde\", \"Vermelho\", TRUE, FALSE, TRUE)\n",
    "several_1"
   ]
  },
  {
   "cell_type": "code",
   "execution_count": 39,
   "id": "e1aa3814",
   "metadata": {},
   "outputs": [
    {
     "data": {
      "text/html": [
       "'character'"
      ],
      "text/latex": [
       "'character'"
      ],
      "text/markdown": [
       "'character'"
      ],
      "text/plain": [
       "[1] \"character\""
      ]
     },
     "metadata": {},
     "output_type": "display_data"
    }
   ],
   "source": [
    "class(several_1)"
   ]
  },
  {
   "cell_type": "code",
   "execution_count": 41,
   "id": "ad343076",
   "metadata": {},
   "outputs": [
    {
     "data": {
      "text/html": [
       "<ol class=list-inline>\n",
       "\t<li>1</li>\n",
       "\t<li>2</li>\n",
       "\t<li>5</li>\n",
       "\t<li>1</li>\n",
       "\t<li>0</li>\n",
       "</ol>\n"
      ],
      "text/latex": [
       "\\begin{enumerate*}\n",
       "\\item 1\n",
       "\\item 2\n",
       "\\item 5\n",
       "\\item 1\n",
       "\\item 0\n",
       "\\end{enumerate*}\n"
      ],
      "text/markdown": [
       "1. 1\n",
       "2. 2\n",
       "3. 5\n",
       "4. 1\n",
       "5. 0\n",
       "\n",
       "\n"
      ],
      "text/plain": [
       "[1] 1 2 5 1 0"
      ]
     },
     "metadata": {},
     "output_type": "display_data"
    }
   ],
   "source": [
    "several_2 <- c(1,2,5,T,F)\n",
    "several_2"
   ]
  },
  {
   "cell_type": "code",
   "execution_count": 42,
   "id": "c28da503",
   "metadata": {},
   "outputs": [
    {
     "data": {
      "text/html": [
       "'numeric'"
      ],
      "text/latex": [
       "'numeric'"
      ],
      "text/markdown": [
       "'numeric'"
      ],
      "text/plain": [
       "[1] \"numeric\""
      ]
     },
     "metadata": {},
     "output_type": "display_data"
    }
   ],
   "source": [
    "class(several_2)"
   ]
  },
  {
   "cell_type": "markdown",
   "id": "a6b7ccea",
   "metadata": {},
   "source": [
    "# Operations"
   ]
  },
  {
   "cell_type": "code",
   "execution_count": 43,
   "id": "5763cfad",
   "metadata": {},
   "outputs": [
    {
     "data": {
      "text/html": [
       "<ol class=list-inline>\n",
       "\t<li>TRUE</li>\n",
       "\t<li>FALSE</li>\n",
       "\t<li>FALSE</li>\n",
       "\t<li>FALSE</li>\n",
       "</ol>\n"
      ],
      "text/latex": [
       "\\begin{enumerate*}\n",
       "\\item TRUE\n",
       "\\item FALSE\n",
       "\\item FALSE\n",
       "\\item FALSE\n",
       "\\end{enumerate*}\n"
      ],
      "text/markdown": [
       "1. TRUE\n",
       "2. FALSE\n",
       "3. FALSE\n",
       "4. FALSE\n",
       "\n",
       "\n"
      ],
      "text/plain": [
       "[1]  TRUE FALSE FALSE FALSE"
      ]
     },
     "metadata": {},
     "output_type": "display_data"
    }
   ],
   "source": [
    "numbers == 1"
   ]
  },
  {
   "cell_type": "code",
   "execution_count": 44,
   "id": "27996bdd",
   "metadata": {},
   "outputs": [
    {
     "data": {
      "text/html": [
       "<ol class=list-inline>\n",
       "\t<li>2</li>\n",
       "\t<li>4</li>\n",
       "\t<li>6</li>\n",
       "\t<li>8</li>\n",
       "</ol>\n"
      ],
      "text/latex": [
       "\\begin{enumerate*}\n",
       "\\item 2\n",
       "\\item 4\n",
       "\\item 6\n",
       "\\item 8\n",
       "\\end{enumerate*}\n"
      ],
      "text/markdown": [
       "1. 2\n",
       "2. 4\n",
       "3. 6\n",
       "4. 8\n",
       "\n",
       "\n"
      ],
      "text/plain": [
       "[1] 2 4 6 8"
      ]
     },
     "metadata": {},
     "output_type": "display_data"
    }
   ],
   "source": [
    "numbers*2"
   ]
  },
  {
   "cell_type": "code",
   "execution_count": 46,
   "id": "71f3a637",
   "metadata": {},
   "outputs": [
    {
     "data": {
      "text/html": [
       "<ol class=list-inline>\n",
       "\t<li>3</li>\n",
       "\t<li>6</li>\n",
       "\t<li>9</li>\n",
       "\t<li>12</li>\n",
       "</ol>\n"
      ],
      "text/latex": [
       "\\begin{enumerate*}\n",
       "\\item 3\n",
       "\\item 6\n",
       "\\item 9\n",
       "\\item 12\n",
       "\\end{enumerate*}\n"
      ],
      "text/markdown": [
       "1. 3\n",
       "2. 6\n",
       "3. 9\n",
       "4. 12\n",
       "\n",
       "\n"
      ],
      "text/plain": [
       "[1]  3  6  9 12"
      ]
     },
     "metadata": {},
     "output_type": "display_data"
    }
   ],
   "source": [
    "triple_numbers <- numbers*3\n",
    "triple_numbers"
   ]
  },
  {
   "cell_type": "code",
   "execution_count": 47,
   "id": "45ff4ce9",
   "metadata": {},
   "outputs": [
    {
     "data": {
      "text/html": [
       "<ol class=list-inline>\n",
       "\t<li>FALSE</li>\n",
       "\t<li>TRUE</li>\n",
       "\t<li>TRUE</li>\n",
       "\t<li>TRUE</li>\n",
       "</ol>\n"
      ],
      "text/latex": [
       "\\begin{enumerate*}\n",
       "\\item FALSE\n",
       "\\item TRUE\n",
       "\\item TRUE\n",
       "\\item TRUE\n",
       "\\end{enumerate*}\n"
      ],
      "text/markdown": [
       "1. FALSE\n",
       "2. TRUE\n",
       "3. TRUE\n",
       "4. TRUE\n",
       "\n",
       "\n"
      ],
      "text/plain": [
       "[1] FALSE  TRUE  TRUE  TRUE"
      ]
     },
     "metadata": {},
     "output_type": "display_data"
    }
   ],
   "source": [
    "people != 'João'"
   ]
  },
  {
   "cell_type": "code",
   "execution_count": 48,
   "id": "6a203da8",
   "metadata": {},
   "outputs": [
    {
     "data": {
      "text/html": [
       "<ol class=list-inline>\n",
       "\t<li>FALSE</li>\n",
       "\t<li>FALSE</li>\n",
       "\t<li>FALSE</li>\n",
       "\t<li>FALSE</li>\n",
       "\t<li>FALSE</li>\n",
       "\t<li>FALSE</li>\n",
       "\t<li>FALSE</li>\n",
       "\t<li>FALSE</li>\n",
       "\t<li>FALSE</li>\n",
       "\t<li>FALSE</li>\n",
       "\t<li>FALSE</li>\n",
       "\t<li>FALSE</li>\n",
       "\t<li>FALSE</li>\n",
       "\t<li>FALSE</li>\n",
       "\t<li>FALSE</li>\n",
       "\t<li>FALSE</li>\n",
       "\t<li>FALSE</li>\n",
       "\t<li>FALSE</li>\n",
       "\t<li>FALSE</li>\n",
       "\t<li>FALSE</li>\n",
       "\t<li>FALSE</li>\n",
       "\t<li>FALSE</li>\n",
       "\t<li>FALSE</li>\n",
       "\t<li>FALSE</li>\n",
       "\t<li>FALSE</li>\n",
       "\t<li>FALSE</li>\n",
       "\t<li>FALSE</li>\n",
       "\t<li>FALSE</li>\n",
       "\t<li>FALSE</li>\n",
       "\t<li>FALSE</li>\n",
       "\t<li>FALSE</li>\n",
       "\t<li>FALSE</li>\n",
       "\t<li>FALSE</li>\n",
       "\t<li>FALSE</li>\n",
       "\t<li>FALSE</li>\n",
       "\t<li>FALSE</li>\n",
       "\t<li>FALSE</li>\n",
       "\t<li>FALSE</li>\n",
       "\t<li>FALSE</li>\n",
       "\t<li>FALSE</li>\n",
       "\t<li>FALSE</li>\n",
       "\t<li>FALSE</li>\n",
       "\t<li>FALSE</li>\n",
       "\t<li>FALSE</li>\n",
       "\t<li>FALSE</li>\n",
       "\t<li>FALSE</li>\n",
       "\t<li>FALSE</li>\n",
       "\t<li>FALSE</li>\n",
       "\t<li>FALSE</li>\n",
       "\t<li>FALSE</li>\n",
       "\t<li>FALSE</li>\n",
       "\t<li>TRUE</li>\n",
       "\t<li>TRUE</li>\n",
       "\t<li>TRUE</li>\n",
       "\t<li>TRUE</li>\n",
       "\t<li>TRUE</li>\n",
       "\t<li>TRUE</li>\n",
       "\t<li>TRUE</li>\n",
       "\t<li>TRUE</li>\n",
       "\t<li>TRUE</li>\n",
       "\t<li>TRUE</li>\n",
       "\t<li>TRUE</li>\n",
       "\t<li>TRUE</li>\n",
       "\t<li>TRUE</li>\n",
       "\t<li>TRUE</li>\n",
       "\t<li>TRUE</li>\n",
       "\t<li>TRUE</li>\n",
       "\t<li>TRUE</li>\n",
       "\t<li>TRUE</li>\n",
       "\t<li>TRUE</li>\n",
       "\t<li>TRUE</li>\n",
       "\t<li>TRUE</li>\n",
       "\t<li>TRUE</li>\n",
       "\t<li>TRUE</li>\n",
       "\t<li>TRUE</li>\n",
       "\t<li>TRUE</li>\n",
       "\t<li>TRUE</li>\n",
       "\t<li>TRUE</li>\n",
       "\t<li>TRUE</li>\n",
       "\t<li>TRUE</li>\n",
       "\t<li>TRUE</li>\n",
       "\t<li>TRUE</li>\n",
       "\t<li>TRUE</li>\n",
       "\t<li>TRUE</li>\n",
       "\t<li>TRUE</li>\n",
       "\t<li>TRUE</li>\n",
       "\t<li>TRUE</li>\n",
       "\t<li>TRUE</li>\n",
       "\t<li>TRUE</li>\n",
       "\t<li>TRUE</li>\n",
       "\t<li>TRUE</li>\n",
       "\t<li>TRUE</li>\n",
       "\t<li>TRUE</li>\n",
       "\t<li>TRUE</li>\n",
       "\t<li>TRUE</li>\n",
       "\t<li>TRUE</li>\n",
       "\t<li>TRUE</li>\n",
       "\t<li>TRUE</li>\n",
       "\t<li>TRUE</li>\n",
       "\t<li>TRUE</li>\n",
       "\t<li>TRUE</li>\n",
       "</ol>\n"
      ],
      "text/latex": [
       "\\begin{enumerate*}\n",
       "\\item FALSE\n",
       "\\item FALSE\n",
       "\\item FALSE\n",
       "\\item FALSE\n",
       "\\item FALSE\n",
       "\\item FALSE\n",
       "\\item FALSE\n",
       "\\item FALSE\n",
       "\\item FALSE\n",
       "\\item FALSE\n",
       "\\item FALSE\n",
       "\\item FALSE\n",
       "\\item FALSE\n",
       "\\item FALSE\n",
       "\\item FALSE\n",
       "\\item FALSE\n",
       "\\item FALSE\n",
       "\\item FALSE\n",
       "\\item FALSE\n",
       "\\item FALSE\n",
       "\\item FALSE\n",
       "\\item FALSE\n",
       "\\item FALSE\n",
       "\\item FALSE\n",
       "\\item FALSE\n",
       "\\item FALSE\n",
       "\\item FALSE\n",
       "\\item FALSE\n",
       "\\item FALSE\n",
       "\\item FALSE\n",
       "\\item FALSE\n",
       "\\item FALSE\n",
       "\\item FALSE\n",
       "\\item FALSE\n",
       "\\item FALSE\n",
       "\\item FALSE\n",
       "\\item FALSE\n",
       "\\item FALSE\n",
       "\\item FALSE\n",
       "\\item FALSE\n",
       "\\item FALSE\n",
       "\\item FALSE\n",
       "\\item FALSE\n",
       "\\item FALSE\n",
       "\\item FALSE\n",
       "\\item FALSE\n",
       "\\item FALSE\n",
       "\\item FALSE\n",
       "\\item FALSE\n",
       "\\item FALSE\n",
       "\\item FALSE\n",
       "\\item TRUE\n",
       "\\item TRUE\n",
       "\\item TRUE\n",
       "\\item TRUE\n",
       "\\item TRUE\n",
       "\\item TRUE\n",
       "\\item TRUE\n",
       "\\item TRUE\n",
       "\\item TRUE\n",
       "\\item TRUE\n",
       "\\item TRUE\n",
       "\\item TRUE\n",
       "\\item TRUE\n",
       "\\item TRUE\n",
       "\\item TRUE\n",
       "\\item TRUE\n",
       "\\item TRUE\n",
       "\\item TRUE\n",
       "\\item TRUE\n",
       "\\item TRUE\n",
       "\\item TRUE\n",
       "\\item TRUE\n",
       "\\item TRUE\n",
       "\\item TRUE\n",
       "\\item TRUE\n",
       "\\item TRUE\n",
       "\\item TRUE\n",
       "\\item TRUE\n",
       "\\item TRUE\n",
       "\\item TRUE\n",
       "\\item TRUE\n",
       "\\item TRUE\n",
       "\\item TRUE\n",
       "\\item TRUE\n",
       "\\item TRUE\n",
       "\\item TRUE\n",
       "\\item TRUE\n",
       "\\item TRUE\n",
       "\\item TRUE\n",
       "\\item TRUE\n",
       "\\item TRUE\n",
       "\\item TRUE\n",
       "\\item TRUE\n",
       "\\item TRUE\n",
       "\\item TRUE\n",
       "\\item TRUE\n",
       "\\item TRUE\n",
       "\\item TRUE\n",
       "\\item TRUE\n",
       "\\item TRUE\n",
       "\\end{enumerate*}\n"
      ],
      "text/markdown": [
       "1. FALSE\n",
       "2. FALSE\n",
       "3. FALSE\n",
       "4. FALSE\n",
       "5. FALSE\n",
       "6. FALSE\n",
       "7. FALSE\n",
       "8. FALSE\n",
       "9. FALSE\n",
       "10. FALSE\n",
       "11. FALSE\n",
       "12. FALSE\n",
       "13. FALSE\n",
       "14. FALSE\n",
       "15. FALSE\n",
       "16. FALSE\n",
       "17. FALSE\n",
       "18. FALSE\n",
       "19. FALSE\n",
       "20. FALSE\n",
       "21. FALSE\n",
       "22. FALSE\n",
       "23. FALSE\n",
       "24. FALSE\n",
       "25. FALSE\n",
       "26. FALSE\n",
       "27. FALSE\n",
       "28. FALSE\n",
       "29. FALSE\n",
       "30. FALSE\n",
       "31. FALSE\n",
       "32. FALSE\n",
       "33. FALSE\n",
       "34. FALSE\n",
       "35. FALSE\n",
       "36. FALSE\n",
       "37. FALSE\n",
       "38. FALSE\n",
       "39. FALSE\n",
       "40. FALSE\n",
       "41. FALSE\n",
       "42. FALSE\n",
       "43. FALSE\n",
       "44. FALSE\n",
       "45. FALSE\n",
       "46. FALSE\n",
       "47. FALSE\n",
       "48. FALSE\n",
       "49. FALSE\n",
       "50. FALSE\n",
       "51. FALSE\n",
       "52. TRUE\n",
       "53. TRUE\n",
       "54. TRUE\n",
       "55. TRUE\n",
       "56. TRUE\n",
       "57. TRUE\n",
       "58. TRUE\n",
       "59. TRUE\n",
       "60. TRUE\n",
       "61. TRUE\n",
       "62. TRUE\n",
       "63. TRUE\n",
       "64. TRUE\n",
       "65. TRUE\n",
       "66. TRUE\n",
       "67. TRUE\n",
       "68. TRUE\n",
       "69. TRUE\n",
       "70. TRUE\n",
       "71. TRUE\n",
       "72. TRUE\n",
       "73. TRUE\n",
       "74. TRUE\n",
       "75. TRUE\n",
       "76. TRUE\n",
       "77. TRUE\n",
       "78. TRUE\n",
       "79. TRUE\n",
       "80. TRUE\n",
       "81. TRUE\n",
       "82. TRUE\n",
       "83. TRUE\n",
       "84. TRUE\n",
       "85. TRUE\n",
       "86. TRUE\n",
       "87. TRUE\n",
       "88. TRUE\n",
       "89. TRUE\n",
       "90. TRUE\n",
       "91. TRUE\n",
       "92. TRUE\n",
       "93. TRUE\n",
       "94. TRUE\n",
       "95. TRUE\n",
       "96. TRUE\n",
       "97. TRUE\n",
       "98. TRUE\n",
       "99. TRUE\n",
       "100. TRUE\n",
       "101. TRUE\n",
       "\n",
       "\n"
      ],
      "text/plain": [
       "  [1] FALSE FALSE FALSE FALSE FALSE FALSE FALSE FALSE FALSE FALSE FALSE FALSE\n",
       " [13] FALSE FALSE FALSE FALSE FALSE FALSE FALSE FALSE FALSE FALSE FALSE FALSE\n",
       " [25] FALSE FALSE FALSE FALSE FALSE FALSE FALSE FALSE FALSE FALSE FALSE FALSE\n",
       " [37] FALSE FALSE FALSE FALSE FALSE FALSE FALSE FALSE FALSE FALSE FALSE FALSE\n",
       " [49] FALSE FALSE FALSE  TRUE  TRUE  TRUE  TRUE  TRUE  TRUE  TRUE  TRUE  TRUE\n",
       " [61]  TRUE  TRUE  TRUE  TRUE  TRUE  TRUE  TRUE  TRUE  TRUE  TRUE  TRUE  TRUE\n",
       " [73]  TRUE  TRUE  TRUE  TRUE  TRUE  TRUE  TRUE  TRUE  TRUE  TRUE  TRUE  TRUE\n",
       " [85]  TRUE  TRUE  TRUE  TRUE  TRUE  TRUE  TRUE  TRUE  TRUE  TRUE  TRUE  TRUE\n",
       " [97]  TRUE  TRUE  TRUE  TRUE  TRUE"
      ]
     },
     "metadata": {},
     "output_type": "display_data"
    }
   ],
   "source": [
    "sequence > 550"
   ]
  },
  {
   "cell_type": "code",
   "execution_count": 50,
   "id": "be7e0d7d",
   "metadata": {},
   "outputs": [
    {
     "data": {
      "text/html": [
       "<ol class=list-inline>\n",
       "\t<li>high building</li>\n",
       "\t<li>medium building</li>\n",
       "\t<li>high building</li>\n",
       "\t<li>low building</li>\n",
       "\t<li>medium building</li>\n",
       "\t<li>high building</li>\n",
       "</ol>\n",
       "\n",
       "<details>\n",
       "\t<summary style=display:list-item;cursor:pointer>\n",
       "\t\t<strong>Levels</strong>:\n",
       "\t</summary>\n",
       "\t<ol class=list-inline>\n",
       "\t\t<li>'low building'</li>\n",
       "\t\t<li>'medium building'</li>\n",
       "\t\t<li>'high building'</li>\n",
       "\t</ol>\n",
       "</details>"
      ],
      "text/latex": [
       "\\begin{enumerate*}\n",
       "\\item high building\n",
       "\\item medium building\n",
       "\\item high building\n",
       "\\item low building\n",
       "\\item medium building\n",
       "\\item high building\n",
       "\\end{enumerate*}\n",
       "\n",
       "\\emph{Levels}: \\begin{enumerate*}\n",
       "\\item 'low building'\n",
       "\\item 'medium building'\n",
       "\\item 'high building'\n",
       "\\end{enumerate*}\n"
      ],
      "text/markdown": [
       "1. high building\n",
       "2. medium building\n",
       "3. high building\n",
       "4. low building\n",
       "5. medium building\n",
       "6. high building\n",
       "\n",
       "\n",
       "\n",
       "**Levels**: 1. 'low building'\n",
       "2. 'medium building'\n",
       "3. 'high building'\n",
       "\n",
       "\n"
      ],
      "text/plain": [
       "[1] high building   medium building high building   low building   \n",
       "[5] medium building high building  \n",
       "Levels: low building medium building high building"
      ]
     },
     "metadata": {},
     "output_type": "display_data"
    }
   ],
   "source": [
    "height <- factor(c(\"high\", \"medium\", \"high\", \"low\", \"medium\", \"high\"), \n",
    "                levels = c(\"low\", \"medium\", \"high\"),\n",
    "                labels = c(\"low building\",\n",
    "                           \"medium building\",\n",
    "                           \"high building\"))\n",
    "height"
   ]
  },
  {
   "cell_type": "code",
   "execution_count": 51,
   "id": "48d1be2a",
   "metadata": {},
   "outputs": [
    {
     "data": {
      "text/html": [
       "'factor'"
      ],
      "text/latex": [
       "'factor'"
      ],
      "text/markdown": [
       "'factor'"
      ],
      "text/plain": [
       "[1] \"factor\""
      ]
     },
     "metadata": {},
     "output_type": "display_data"
    }
   ],
   "source": [
    "class(height)"
   ]
  },
  {
   "cell_type": "code",
   "execution_count": 54,
   "id": "c9df6b2f",
   "metadata": {},
   "outputs": [
    {
     "data": {
      "text/html": [
       "<ol class=list-inline>\n",
       "\t<li>totally disagree</li>\n",
       "\t<li>no opnion</li>\n",
       "\t<li>no opnion</li>\n",
       "\t<li>totally agree</li>\n",
       "\t<li>totally disagree</li>\n",
       "\t<li>no opnion</li>\n",
       "\t<li>totally agree</li>\n",
       "\t<li>totally agree</li>\n",
       "\t<li>totally disagree</li>\n",
       "\t<li>no opnion</li>\n",
       "\t<li>totally disagree</li>\n",
       "\t<li>totally disagree</li>\n",
       "\t<li>totally agree</li>\n",
       "\t<li>no opnion</li>\n",
       "\t<li>totally agree</li>\n",
       "</ol>\n",
       "\n",
       "<details>\n",
       "\t<summary style=display:list-item;cursor:pointer>\n",
       "\t\t<strong>Levels</strong>:\n",
       "\t</summary>\n",
       "\t<ol class=list-inline>\n",
       "\t\t<li>'totally disagree'</li>\n",
       "\t\t<li>'no opnion'</li>\n",
       "\t\t<li>'totally agree'</li>\n",
       "\t</ol>\n",
       "</details>"
      ],
      "text/latex": [
       "\\begin{enumerate*}\n",
       "\\item totally disagree\n",
       "\\item no opnion\n",
       "\\item no opnion\n",
       "\\item totally agree\n",
       "\\item totally disagree\n",
       "\\item no opnion\n",
       "\\item totally agree\n",
       "\\item totally agree\n",
       "\\item totally disagree\n",
       "\\item no opnion\n",
       "\\item totally disagree\n",
       "\\item totally disagree\n",
       "\\item totally agree\n",
       "\\item no opnion\n",
       "\\item totally agree\n",
       "\\end{enumerate*}\n",
       "\n",
       "\\emph{Levels}: \\begin{enumerate*}\n",
       "\\item 'totally disagree'\n",
       "\\item 'no opnion'\n",
       "\\item 'totally agree'\n",
       "\\end{enumerate*}\n"
      ],
      "text/markdown": [
       "1. totally disagree\n",
       "2. no opnion\n",
       "3. no opnion\n",
       "4. totally agree\n",
       "5. totally disagree\n",
       "6. no opnion\n",
       "7. totally agree\n",
       "8. totally agree\n",
       "9. totally disagree\n",
       "10. no opnion\n",
       "11. totally disagree\n",
       "12. totally disagree\n",
       "13. totally agree\n",
       "14. no opnion\n",
       "15. totally agree\n",
       "\n",
       "\n",
       "\n",
       "**Levels**: 1. 'totally disagree'\n",
       "2. 'no opnion'\n",
       "3. 'totally agree'\n",
       "\n",
       "\n"
      ],
      "text/plain": [
       " [1] totally disagree no opnion        no opnion        totally agree   \n",
       " [5] totally disagree no opnion        totally agree    totally agree   \n",
       " [9] totally disagree no opnion        totally disagree totally disagree\n",
       "[13] totally agree    no opnion        totally agree   \n",
       "Levels: totally disagree no opnion totally agree"
      ]
     },
     "metadata": {},
     "output_type": "display_data"
    }
   ],
   "source": [
    "answer <- factor(c(1, 2, 2, 3, 1, 2, 3, 3, 1, 2, 1, 1, 3, 2, 3),\n",
    "                    levels = c(1, 2, 3),\n",
    "                    labels = c(\"totally disagree\",\n",
    "                               \"no opnion\",\n",
    "                               \"totally agree\"))\n",
    "answer"
   ]
  },
  {
   "cell_type": "markdown",
   "id": "39c417d6",
   "metadata": {},
   "source": [
    "# Data bases"
   ]
  },
  {
   "cell_type": "code",
   "execution_count": 56,
   "id": "2da03598",
   "metadata": {},
   "outputs": [
    {
     "data": {
      "text/html": [
       "<table>\n",
       "<thead><tr><th scope=col>var1</th><th scope=col>var2</th></tr></thead>\n",
       "<tbody>\n",
       "\t<tr><td>person 1</td><td>42      </td></tr>\n",
       "\t<tr><td>person 2</td><td>55      </td></tr>\n",
       "\t<tr><td>person 3</td><td>28      </td></tr>\n",
       "</tbody>\n",
       "</table>\n"
      ],
      "text/latex": [
       "\\begin{tabular}{r|ll}\n",
       " var1 & var2\\\\\n",
       "\\hline\n",
       "\t person 1 & 42      \\\\\n",
       "\t person 2 & 55      \\\\\n",
       "\t person 3 & 28      \\\\\n",
       "\\end{tabular}\n"
      ],
      "text/markdown": [
       "\n",
       "| var1 | var2 |\n",
       "|---|---|\n",
       "| person 1 | 42       |\n",
       "| person 2 | 55       |\n",
       "| person 3 | 28       |\n",
       "\n"
      ],
      "text/plain": [
       "  var1     var2\n",
       "1 person 1 42  \n",
       "2 person 2 55  \n",
       "3 person 3 28  "
      ]
     },
     "metadata": {},
     "output_type": "display_data"
    }
   ],
   "source": [
    "data_base_1 <- data.frame(var1 = c(\"person 1\", \"person 2\", \"person 3\"),\n",
    "                             var2 = c(42, 55, 28))\n",
    "data_base_1"
   ]
  },
  {
   "cell_type": "code",
   "execution_count": 60,
   "id": "1cbacfc2",
   "metadata": {},
   "outputs": [
    {
     "data": {
      "text/html": [
       "<table>\n",
       "<thead><tr><th scope=col>var1</th><th scope=col>var2</th><th scope=col>var3</th></tr></thead>\n",
       "<tbody>\n",
       "\t<tr><td> 1</td><td>11</td><td>a </td></tr>\n",
       "\t<tr><td> 2</td><td>12</td><td>b </td></tr>\n",
       "\t<tr><td> 3</td><td>13</td><td>c </td></tr>\n",
       "\t<tr><td> 4</td><td>14</td><td>d </td></tr>\n",
       "\t<tr><td> 5</td><td>15</td><td>e </td></tr>\n",
       "\t<tr><td> 6</td><td>16</td><td>f </td></tr>\n",
       "\t<tr><td> 7</td><td>17</td><td>g </td></tr>\n",
       "\t<tr><td> 8</td><td>18</td><td>h </td></tr>\n",
       "\t<tr><td> 9</td><td>NA</td><td>i </td></tr>\n",
       "\t<tr><td>10</td><td>NA</td><td>j </td></tr>\n",
       "</tbody>\n",
       "</table>\n"
      ],
      "text/latex": [
       "\\begin{tabular}{r|lll}\n",
       " var1 & var2 & var3\\\\\n",
       "\\hline\n",
       "\t  1 & 11 & a \\\\\n",
       "\t  2 & 12 & b \\\\\n",
       "\t  3 & 13 & c \\\\\n",
       "\t  4 & 14 & d \\\\\n",
       "\t  5 & 15 & e \\\\\n",
       "\t  6 & 16 & f \\\\\n",
       "\t  7 & 17 & g \\\\\n",
       "\t  8 & 18 & h \\\\\n",
       "\t  9 & NA & i \\\\\n",
       "\t 10 & NA & j \\\\\n",
       "\\end{tabular}\n"
      ],
      "text/markdown": [
       "\n",
       "| var1 | var2 | var3 |\n",
       "|---|---|---|\n",
       "|  1 | 11 | a  |\n",
       "|  2 | 12 | b  |\n",
       "|  3 | 13 | c  |\n",
       "|  4 | 14 | d  |\n",
       "|  5 | 15 | e  |\n",
       "|  6 | 16 | f  |\n",
       "|  7 | 17 | g  |\n",
       "|  8 | 18 | h  |\n",
       "|  9 | NA | i  |\n",
       "| 10 | NA | j  |\n",
       "\n"
      ],
      "text/plain": [
       "   var1 var2 var3\n",
       "1   1   11   a   \n",
       "2   2   12   b   \n",
       "3   3   13   c   \n",
       "4   4   14   d   \n",
       "5   5   15   e   \n",
       "6   6   16   f   \n",
       "7   7   17   g   \n",
       "8   8   18   h   \n",
       "9   9   NA   i   \n",
       "10 10   NA   j   "
      ]
     },
     "metadata": {},
     "output_type": "display_data"
    }
   ],
   "source": [
    "var1 <- c(1:10)\n",
    "var2 <- c(11:18, NA, NA)\n",
    "var3 <- c(\"a\",\"b\",\"c\",\"d\",\"e\",\"f\",\"g\",\"h\",\"i\",\"j\")\n",
    "\n",
    "data_base_2 <- data.frame(var1, var2, var3)\n",
    "data_base_2"
   ]
  },
  {
   "cell_type": "code",
   "execution_count": 62,
   "id": "3ec13ae3",
   "metadata": {
    "scrolled": false
   },
   "outputs": [
    {
     "data": {
      "text/html": [
       "<table>\n",
       "<thead><tr><th scope=col>position</th><th scope=col>missing</th><th scope=col>letters</th></tr></thead>\n",
       "<tbody>\n",
       "\t<tr><td> 1</td><td>11</td><td>a </td></tr>\n",
       "\t<tr><td> 2</td><td>12</td><td>b </td></tr>\n",
       "\t<tr><td> 3</td><td>13</td><td>c </td></tr>\n",
       "\t<tr><td> 4</td><td>14</td><td>d </td></tr>\n",
       "\t<tr><td> 5</td><td>15</td><td>e </td></tr>\n",
       "\t<tr><td> 6</td><td>16</td><td>f </td></tr>\n",
       "\t<tr><td> 7</td><td>17</td><td>g </td></tr>\n",
       "\t<tr><td> 8</td><td>18</td><td>h </td></tr>\n",
       "\t<tr><td> 9</td><td>NA</td><td>i </td></tr>\n",
       "\t<tr><td>10</td><td>NA</td><td>j </td></tr>\n",
       "</tbody>\n",
       "</table>\n"
      ],
      "text/latex": [
       "\\begin{tabular}{r|lll}\n",
       " position & missing & letters\\\\\n",
       "\\hline\n",
       "\t  1 & 11 & a \\\\\n",
       "\t  2 & 12 & b \\\\\n",
       "\t  3 & 13 & c \\\\\n",
       "\t  4 & 14 & d \\\\\n",
       "\t  5 & 15 & e \\\\\n",
       "\t  6 & 16 & f \\\\\n",
       "\t  7 & 17 & g \\\\\n",
       "\t  8 & 18 & h \\\\\n",
       "\t  9 & NA & i \\\\\n",
       "\t 10 & NA & j \\\\\n",
       "\\end{tabular}\n"
      ],
      "text/markdown": [
       "\n",
       "| position | missing | letters |\n",
       "|---|---|---|\n",
       "|  1 | 11 | a  |\n",
       "|  2 | 12 | b  |\n",
       "|  3 | 13 | c  |\n",
       "|  4 | 14 | d  |\n",
       "|  5 | 15 | e  |\n",
       "|  6 | 16 | f  |\n",
       "|  7 | 17 | g  |\n",
       "|  8 | 18 | h  |\n",
       "|  9 | NA | i  |\n",
       "| 10 | NA | j  |\n",
       "\n"
      ],
      "text/plain": [
       "   position missing letters\n",
       "1   1       11      a      \n",
       "2   2       12      b      \n",
       "3   3       13      c      \n",
       "4   4       14      d      \n",
       "5   5       15      e      \n",
       "6   6       16      f      \n",
       "7   7       17      g      \n",
       "8   8       18      h      \n",
       "9   9       NA      i      \n",
       "10 10       NA      j      "
      ]
     },
     "metadata": {},
     "output_type": "display_data"
    }
   ],
   "source": [
    "data_base_3 <- data.frame(position = var1,\n",
    "                               missing = var2,\n",
    "                               letters = var3)\n",
    "data_base_3"
   ]
  }
 ],
 "metadata": {
  "kernelspec": {
   "display_name": "R",
   "language": "R",
   "name": "ir"
  },
  "language_info": {
   "codemirror_mode": "r",
   "file_extension": ".r",
   "mimetype": "text/x-r-source",
   "name": "R",
   "pygments_lexer": "r",
   "version": "3.6.1"
  }
 },
 "nbformat": 4,
 "nbformat_minor": 5
}
