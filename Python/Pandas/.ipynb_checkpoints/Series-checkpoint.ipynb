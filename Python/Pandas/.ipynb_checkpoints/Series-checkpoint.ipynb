{
 "cells": [
  {
   "cell_type": "code",
   "execution_count": 2,
   "id": "daea2776",
   "metadata": {},
   "outputs": [],
   "source": [
    "import pandas as pd"
   ]
  },
  {
   "cell_type": "markdown",
   "id": "f82fc32a",
   "metadata": {},
   "source": [
    "# Series"
   ]
  },
  {
   "cell_type": "code",
   "execution_count": 4,
   "id": "09b4fd4e",
   "metadata": {},
   "outputs": [
    {
     "data": {
      "text/plain": [
       "0     chocolate\n",
       "1       vanilla\n",
       "2    strawberry\n",
       "3    Rum raisin\n",
       "dtype: object"
      ]
     },
     "execution_count": 4,
     "metadata": {},
     "output_type": "execute_result"
    }
   ],
   "source": [
    "ice_cream = ['chocolate', 'vanilla', 'strawberry', 'Rum raisin']\n",
    "\n",
    "pd.Series(ice_cream)"
   ]
  },
  {
   "cell_type": "code",
   "execution_count": 6,
   "id": "9db51311",
   "metadata": {},
   "outputs": [
    {
     "data": {
      "text/plain": [
       "0     4\n",
       "1     8\n",
       "2    15\n",
       "3    16\n",
       "4    23\n",
       "dtype: int64"
      ]
     },
     "execution_count": 6,
     "metadata": {},
     "output_type": "execute_result"
    }
   ],
   "source": [
    "lottery = [4, 8, 15, 16, 23]\n",
    "\n",
    "pd.Series(lottery)"
   ]
  },
  {
   "cell_type": "code",
   "execution_count": 7,
   "id": "16857c5d",
   "metadata": {},
   "outputs": [
    {
     "data": {
      "text/plain": [
       "0     True\n",
       "1    False\n",
       "2    False\n",
       "3    False\n",
       "4     True\n",
       "dtype: bool"
      ]
     },
     "execution_count": 7,
     "metadata": {},
     "output_type": "execute_result"
    }
   ],
   "source": [
    "registration = [True, False, False, False, True]\n",
    "pd.Series(registration)"
   ]
  },
  {
   "cell_type": "code",
   "execution_count": 9,
   "id": "2deddde8",
   "metadata": {},
   "outputs": [
    {
     "data": {
      "text/plain": [
       "Salmon    Orange\n",
       "Tuna         Red\n",
       "Eel        Brown\n",
       "dtype: object"
      ]
     },
     "execution_count": 9,
     "metadata": {},
     "output_type": "execute_result"
    }
   ],
   "source": [
    "sushi = {\n",
    "    'Salmon': 'Orange',\n",
    "    'Tuna': 'Red',\n",
    "    'Eel': 'Brown'\n",
    "}\n",
    "\n",
    "pd.Series(sushi)"
   ]
  },
  {
   "cell_type": "code",
   "execution_count": 10,
   "id": "6c4f243b",
   "metadata": {},
   "outputs": [
    {
     "data": {
      "text/plain": [
       "0    2.99\n",
       "1    4.45\n",
       "2    1.36\n",
       "dtype: float64"
      ]
     },
     "execution_count": 10,
     "metadata": {},
     "output_type": "execute_result"
    }
   ],
   "source": [
    "prices = pd.Series([2.99, 4.45, 1.36])\n",
    "prices"
   ]
  },
  {
   "cell_type": "code",
   "execution_count": 11,
   "id": "8fc26888",
   "metadata": {},
   "outputs": [
    {
     "data": {
      "text/plain": [
       "8.8"
      ]
     },
     "execution_count": 11,
     "metadata": {},
     "output_type": "execute_result"
    }
   ],
   "source": [
    "prices.sum()"
   ]
  },
  {
   "cell_type": "code",
   "execution_count": 12,
   "id": "0d56cdcf",
   "metadata": {},
   "outputs": [
    {
     "data": {
      "text/plain": [
       "18.095480000000006"
      ]
     },
     "execution_count": 12,
     "metadata": {},
     "output_type": "execute_result"
    }
   ],
   "source": [
    "prices.product()"
   ]
  },
  {
   "cell_type": "code",
   "execution_count": 13,
   "id": "f07edd18",
   "metadata": {},
   "outputs": [
    {
     "data": {
      "text/plain": [
       "2.9333333333333336"
      ]
     },
     "execution_count": 13,
     "metadata": {},
     "output_type": "execute_result"
    }
   ],
   "source": [
    "prices.mean()"
   ]
  },
  {
   "cell_type": "markdown",
   "id": "8e2b0709",
   "metadata": {},
   "source": [
    "# Intro to Attributes"
   ]
  },
  {
   "cell_type": "code",
   "execution_count": 24,
   "id": "5eca5385",
   "metadata": {},
   "outputs": [
    {
     "data": {
      "text/plain": [
       "0        Smart\n",
       "1     Handsome\n",
       "2     Charming\n",
       "3    Brilliant\n",
       "4       Humble\n",
       "5        Smart\n",
       "dtype: object"
      ]
     },
     "execution_count": 24,
     "metadata": {},
     "output_type": "execute_result"
    }
   ],
   "source": [
    "adjectives = pd.Series(['Smart', 'Handsome', 'Charming', 'Brilliant', 'Humble','Smart'])\n",
    "adjectives"
   ]
  },
  {
   "cell_type": "code",
   "execution_count": 25,
   "id": "5b1f7fb2",
   "metadata": {},
   "outputs": [
    {
     "data": {
      "text/plain": [
       "6"
      ]
     },
     "execution_count": 25,
     "metadata": {},
     "output_type": "execute_result"
    }
   ],
   "source": [
    "adjectives.size"
   ]
  },
  {
   "cell_type": "code",
   "execution_count": 26,
   "id": "a66fdd2a",
   "metadata": {},
   "outputs": [
    {
     "data": {
      "text/plain": [
       "False"
      ]
     },
     "execution_count": 26,
     "metadata": {},
     "output_type": "execute_result"
    }
   ],
   "source": [
    "adjectives.is_unique"
   ]
  },
  {
   "cell_type": "code",
   "execution_count": 27,
   "id": "51d29895",
   "metadata": {},
   "outputs": [
    {
     "data": {
      "text/plain": [
       "array(['Smart', 'Handsome', 'Charming', 'Brilliant', 'Humble', 'Smart'],\n",
       "      dtype=object)"
      ]
     },
     "execution_count": 27,
     "metadata": {},
     "output_type": "execute_result"
    }
   ],
   "source": [
    "adjectives.values"
   ]
  },
  {
   "cell_type": "code",
   "execution_count": 28,
   "id": "c5a59e1d",
   "metadata": {},
   "outputs": [
    {
     "data": {
      "text/plain": [
       "numpy.ndarray"
      ]
     },
     "execution_count": 28,
     "metadata": {},
     "output_type": "execute_result"
    }
   ],
   "source": [
    "type(adjectives.values)"
   ]
  },
  {
   "cell_type": "code",
   "execution_count": 29,
   "id": "916a1a5a",
   "metadata": {},
   "outputs": [
    {
     "data": {
      "text/plain": [
       "RangeIndex(start=0, stop=6, step=1)"
      ]
     },
     "execution_count": 29,
     "metadata": {},
     "output_type": "execute_result"
    }
   ],
   "source": [
    "adjectives.index"
   ]
  },
  {
   "cell_type": "code",
   "execution_count": 30,
   "id": "7d34fd76",
   "metadata": {},
   "outputs": [
    {
     "data": {
      "text/plain": [
       "pandas.core.indexes.range.RangeIndex"
      ]
     },
     "execution_count": 30,
     "metadata": {},
     "output_type": "execute_result"
    }
   ],
   "source": [
    "type(adjectives.index)"
   ]
  },
  {
   "cell_type": "code",
   "execution_count": 32,
   "id": "2d1e262e",
   "metadata": {},
   "outputs": [
    {
     "data": {
      "text/plain": [
       "dtype('O')"
      ]
     },
     "execution_count": 32,
     "metadata": {},
     "output_type": "execute_result"
    }
   ],
   "source": [
    "adjectives.dtype"
   ]
  },
  {
   "cell_type": "markdown",
   "id": "4bc2e184",
   "metadata": {},
   "source": [
    "# Parameters and Arguments"
   ]
  },
  {
   "cell_type": "code",
   "execution_count": 33,
   "id": "60724b4c",
   "metadata": {},
   "outputs": [],
   "source": [
    "# Parameter - The name we give to an expected input\n",
    "# Argument - The concrete value that we provide to a parameter\n",
    "\n",
    "# Difficulty - Easy, Medim, Hard\n",
    "#Volume - 1 through 10"
   ]
  },
  {
   "cell_type": "code",
   "execution_count": 38,
   "id": "f47e76e3",
   "metadata": {},
   "outputs": [],
   "source": [
    "fruits = ['Apple', 'Orange', 'Plum', 'Grape', 'Blueberry', 'Watermelon']\n",
    "weekdays = ['Monday', 'Tuesday', 'Wednesday', 'Thrursday', 'Friday', 'Monday']\n",
    "\n",
    "x = pd.Series(data = fruits, index = weekdays)"
   ]
  },
  {
   "cell_type": "code",
   "execution_count": 41,
   "id": "df55c03c",
   "metadata": {},
   "outputs": [
    {
     "data": {
      "text/plain": [
       "Monday         Apple\n",
       "Monday    Watermelon\n",
       "dtype: object"
      ]
     },
     "execution_count": 41,
     "metadata": {},
     "output_type": "execute_result"
    }
   ],
   "source": [
    "x['Monday']"
   ]
  },
  {
   "cell_type": "markdown",
   "id": "b815866d",
   "metadata": {},
   "source": [
    "# Import Series with the pd.read_csv Function"
   ]
  },
  {
   "cell_type": "code",
   "execution_count": 51,
   "id": "2b7b43c0",
   "metadata": {},
   "outputs": [
    {
     "data": {
      "text/plain": [
       "0       Bulbasaur\n",
       "1         Ivysaur\n",
       "2        Venusaur\n",
       "3      Charmander\n",
       "4      Charmeleon\n",
       "          ...    \n",
       "716       Yveltal\n",
       "717       Zygarde\n",
       "718       Diancie\n",
       "719         Hoopa\n",
       "720     Volcanion\n",
       "Name: Pokemon, Length: 721, dtype: object"
      ]
     },
     "execution_count": 51,
     "metadata": {},
     "output_type": "execute_result"
    }
   ],
   "source": [
    "pokemon = pd.read_csv(r'pandas/pokemon.csv', usecols=['Pokemon']).squeeze('columns')\n",
    "pokemon"
   ]
  },
  {
   "cell_type": "code",
   "execution_count": 55,
   "id": "2a536e1a",
   "metadata": {},
   "outputs": [],
   "source": [
    "google = pd.read_csv('pandas/google_stock_price.csv', usecols=['Stock Price']).squeeze()"
   ]
  },
  {
   "cell_type": "markdown",
   "id": "b95375e7",
   "metadata": {},
   "source": [
    "# The head and tail Methods on a series"
   ]
  },
  {
   "cell_type": "code",
   "execution_count": 59,
   "id": "0291c8ab",
   "metadata": {},
   "outputs": [],
   "source": [
    "pokemon = pd.read_csv('pandas/pokemon.csv', usecols = ['Pokemon']).squeeze('columns')\n",
    "google = pd.read_csv('pandas/google_stock_price.csv', usecols = ['Stock Price']).squeeze()"
   ]
  },
  {
   "cell_type": "code",
   "execution_count": 61,
   "id": "e3a9981b",
   "metadata": {},
   "outputs": [
    {
     "data": {
      "text/plain": [
       "0     Bulbasaur\n",
       "1       Ivysaur\n",
       "2      Venusaur\n",
       "3    Charmander\n",
       "4    Charmeleon\n",
       "5     Charizard\n",
       "Name: Pokemon, dtype: object"
      ]
     },
     "execution_count": 61,
     "metadata": {},
     "output_type": "execute_result"
    }
   ],
   "source": [
    "pokemon.head()\n",
    "pokemon.head(6)"
   ]
  },
  {
   "cell_type": "code",
   "execution_count": 62,
   "id": "9a6be998",
   "metadata": {},
   "outputs": [
    {
     "data": {
      "text/plain": [
       "0        50.12\n",
       "1        54.10\n",
       "2        54.65\n",
       "3        52.38\n",
       "4        52.95\n",
       "         ...  \n",
       "3007    772.88\n",
       "3008    771.07\n",
       "3009    773.18\n",
       "3010    771.61\n",
       "3011    782.22\n",
       "Name: Stock Price, Length: 3012, dtype: float64"
      ]
     },
     "execution_count": 62,
     "metadata": {},
     "output_type": "execute_result"
    }
   ],
   "source": [
    "google"
   ]
  },
  {
   "cell_type": "code",
   "execution_count": 64,
   "id": "cef7ce0d",
   "metadata": {},
   "outputs": [
    {
     "data": {
      "text/plain": [
       "3002    739.77\n",
       "3003    738.42\n",
       "3004    741.77\n",
       "3005    745.91\n",
       "3006    768.79\n",
       "3007    772.88\n",
       "3008    771.07\n",
       "3009    773.18\n",
       "3010    771.61\n",
       "3011    782.22\n",
       "Name: Stock Price, dtype: float64"
      ]
     },
     "execution_count": 64,
     "metadata": {},
     "output_type": "execute_result"
    }
   ],
   "source": [
    "google.tail()\n",
    "google.tail(n = 10)"
   ]
  },
  {
   "cell_type": "markdown",
   "id": "862b7be5",
   "metadata": {},
   "source": [
    "# Passing Series to Python's Built-In Functions"
   ]
  },
  {
   "cell_type": "code",
   "execution_count": 65,
   "id": "faf4b43a",
   "metadata": {},
   "outputs": [],
   "source": [
    "pokemon = pd.read_csv('pandas/pokemon.csv', usecols = ['Pokemon']).squeeze('columns')\n",
    "google = pd.read_csv('pandas/google_stock_price.csv', usecols = ['Stock Price']).squeeze()"
   ]
  },
  {
   "cell_type": "code",
   "execution_count": 74,
   "id": "8c1c2a77",
   "metadata": {},
   "outputs": [
    {
     "data": {
      "text/plain": [
       "'Abomasnow'"
      ]
     },
     "execution_count": 74,
     "metadata": {},
     "output_type": "execute_result"
    }
   ],
   "source": [
    "len(pokemon)\n",
    "type(pokemon)\n",
    "dir(pokemon)\n",
    "sorted(pokemon)\n",
    "type(sorted(pokemon))\n",
    "sorted(google)\n",
    "dict(pokemon)\n",
    "max(pokemon)\n",
    "min(pokemon)"
   ]
  },
  {
   "cell_type": "markdown",
   "id": "2f244284",
   "metadata": {},
   "source": [
    "# The sort_values Method"
   ]
  },
  {
   "cell_type": "code",
   "execution_count": 75,
   "id": "84592482",
   "metadata": {},
   "outputs": [],
   "source": [
    "pokemon = pd.read_csv('pandas/pokemon.csv', usecols = ['Pokemon']).squeeze('columns')\n",
    "google = pd.read_csv('pandas/google_stock_price.csv', usecols = ['Stock Price']).squeeze()"
   ]
  },
  {
   "cell_type": "code",
   "execution_count": 80,
   "id": "6f0127c7",
   "metadata": {},
   "outputs": [
    {
     "data": {
      "text/plain": [
       "717     Zygarde\n",
       "633    Zweilous\n",
       "40        Zubat\n",
       "569       Zorua\n",
       "570     Zoroark\n",
       "Name: Pokemon, dtype: object"
      ]
     },
     "execution_count": 80,
     "metadata": {},
     "output_type": "execute_result"
    }
   ],
   "source": [
    "pokemon.sort_values()\n",
    "pokemon.sort_values(ascending = True)\n",
    "pokemon.sort_values(ascending = False).head()"
   ]
  },
  {
   "cell_type": "code",
   "execution_count": 82,
   "id": "0213e624",
   "metadata": {},
   "outputs": [
    {
     "data": {
      "text/plain": [
       "3011    782.22\n",
       "2859    776.60\n",
       "3009    773.18\n",
       "3007    772.88\n",
       "3010    771.61\n",
       "         ...  \n",
       "12       50.74\n",
       "10       50.70\n",
       "0        50.12\n",
       "9        50.07\n",
       "11       49.95\n",
       "Name: Stock Price, Length: 3012, dtype: float64"
      ]
     },
     "execution_count": 82,
     "metadata": {},
     "output_type": "execute_result"
    }
   ],
   "source": [
    "google.sort_values()\n",
    "google.sort_values(ascending = False)"
   ]
  },
  {
   "cell_type": "markdown",
   "id": "1070c703",
   "metadata": {},
   "source": [
    "# The sort_index method"
   ]
  },
  {
   "cell_type": "code",
   "execution_count": 86,
   "id": "bc14d901",
   "metadata": {},
   "outputs": [
    {
     "data": {
      "text/plain": [
       "Pokemon\n",
       "Bulbasaur     Grass\n",
       "Ivysaur       Grass\n",
       "Venusaur      Grass\n",
       "Charmander     Fire\n",
       "Charmeleon     Fire\n",
       "Name: Type, dtype: object"
      ]
     },
     "execution_count": 86,
     "metadata": {},
     "output_type": "execute_result"
    }
   ],
   "source": [
    "pokemon = pd.read_csv('pandas/pokemon.csv', index_col = 'Pokemon').squeeze('columns')\n",
    "pokemon.head()"
   ]
  },
  {
   "cell_type": "code",
   "execution_count": 88,
   "id": "c915230e",
   "metadata": {},
   "outputs": [
    {
     "data": {
      "text/plain": [
       "Pokemon\n",
       "Zygarde       Dragon\n",
       "Zweilous        Dark\n",
       "Zubat         Poison\n",
       "Zorua           Dark\n",
       "Zoroark         Dark\n",
       "              ...   \n",
       "Aegislash      Steel\n",
       "Accelgor         Bug\n",
       "Absol           Dark\n",
       "Abra         Psychic\n",
       "Abomasnow      Grass\n",
       "Name: Type, Length: 721, dtype: object"
      ]
     },
     "execution_count": 88,
     "metadata": {},
     "output_type": "execute_result"
    }
   ],
   "source": [
    "pokemon.sort_index()\n",
    "pokemon.sort_index(ascending = False)"
   ]
  },
  {
   "cell_type": "markdown",
   "id": "672f53ae",
   "metadata": {},
   "source": [
    "# Check fo inclusion with Python's in Keyword"
   ]
  },
  {
   "cell_type": "code",
   "execution_count": 93,
   "id": "7b8aa3f6",
   "metadata": {},
   "outputs": [
    {
     "data": {
      "text/plain": [
       "0     Bulbasaur\n",
       "1       Ivysaur\n",
       "2      Venusaur\n",
       "3    Charmander\n",
       "4    Charmeleon\n",
       "Name: Pokemon, dtype: object"
      ]
     },
     "execution_count": 93,
     "metadata": {},
     "output_type": "execute_result"
    }
   ],
   "source": [
    "pokemon = pd.read_csv('pandas/pokemon.csv', usecols = ['Pokemon']).squeeze('columns')\n",
    "pokemon.head()"
   ]
  },
  {
   "cell_type": "code",
   "execution_count": 94,
   "id": "52c364fd",
   "metadata": {},
   "outputs": [
    {
     "data": {
      "text/plain": [
       "False"
      ]
     },
     "execution_count": 94,
     "metadata": {},
     "output_type": "execute_result"
    }
   ],
   "source": [
    "'Bulbasaur' in pokemon"
   ]
  },
  {
   "cell_type": "code",
   "execution_count": 96,
   "id": "ab471c2c",
   "metadata": {},
   "outputs": [
    {
     "data": {
      "text/plain": [
       "True"
      ]
     },
     "execution_count": 96,
     "metadata": {},
     "output_type": "execute_result"
    }
   ],
   "source": [
    "100 in pokemon\n",
    "100 in pokemon.index"
   ]
  },
  {
   "cell_type": "code",
   "execution_count": 97,
   "id": "5cad9c45",
   "metadata": {},
   "outputs": [
    {
     "data": {
      "text/plain": [
       "True"
      ]
     },
     "execution_count": 97,
     "metadata": {},
     "output_type": "execute_result"
    }
   ],
   "source": [
    "'Bulbasaur' in pokemon.values"
   ]
  },
  {
   "cell_type": "markdown",
   "id": "e8e785b7",
   "metadata": {},
   "source": [
    "# Extract Series Value by Index Position"
   ]
  },
  {
   "cell_type": "code",
   "execution_count": 99,
   "id": "85e6220d",
   "metadata": {},
   "outputs": [
    {
     "data": {
      "text/plain": [
       "0     Bulbasaur\n",
       "1       Ivysaur\n",
       "2      Venusaur\n",
       "3    Charmander\n",
       "4    Charmeleon\n",
       "Name: Pokemon, dtype: object"
      ]
     },
     "execution_count": 99,
     "metadata": {},
     "output_type": "execute_result"
    }
   ],
   "source": [
    "pokemon = pd.read_csv('pandas/pokemon.csv', usecols = [0]).squeeze()\n",
    "pokemon.head()"
   ]
  },
  {
   "cell_type": "code",
   "execution_count": 111,
   "id": "03964d43",
   "metadata": {},
   "outputs": [
    {
     "data": {
      "text/plain": [
       "701      Dedenne\n",
       "702      Carbink\n",
       "703        Goomy\n",
       "704      Sliggoo\n",
       "705       Goodra\n",
       "706       Klefki\n",
       "707     Phantump\n",
       "708    Trevenant\n",
       "709    Pumpkaboo\n",
       "710    Gourgeist\n",
       "711     Bergmite\n",
       "712      Avalugg\n",
       "713       Noibat\n",
       "714      Noivern\n",
       "715      Xerneas\n",
       "716      Yveltal\n",
       "717      Zygarde\n",
       "718      Diancie\n",
       "719        Hoopa\n",
       "720    Volcanion\n",
       "Name: Pokemon, dtype: object"
      ]
     },
     "execution_count": 111,
     "metadata": {},
     "output_type": "execute_result"
    }
   ],
   "source": [
    "pokemon[0]\n",
    "pokemon[500]\n",
    "# pokemon[1500]\n",
    "\n",
    "pokemon[[100, 200, 300]]\n",
    "pokemon[27:35]\n",
    "pokemon[:7]\n",
    "\n",
    "pokemon[710:]\n",
    "\n",
    "# pokemon[-1]\n",
    "\n",
    "pokemon[-20:-10]\n",
    "pokemon[-20:]"
   ]
  },
  {
   "cell_type": "markdown",
   "id": "4b5a756e",
   "metadata": {},
   "source": [
    "# Extract Series Valu by index label"
   ]
  },
  {
   "cell_type": "code",
   "execution_count": 113,
   "id": "13102c62",
   "metadata": {},
   "outputs": [
    {
     "data": {
      "text/plain": [
       "Pokemon\n",
       "Bulbasaur     Grass\n",
       "Ivysaur       Grass\n",
       "Venusaur      Grass\n",
       "Charmander     Fire\n",
       "Charmeleon     Fire\n",
       "Name: Type, dtype: object"
      ]
     },
     "execution_count": 113,
     "metadata": {},
     "output_type": "execute_result"
    }
   ],
   "source": [
    "pokemon = pd.read_csv(r'pandas/pokemon.csv', index_col = 'Pokemon').squeeze()\n",
    "pokemon.head()"
   ]
  },
  {
   "cell_type": "code",
   "execution_count": 115,
   "id": "0ecb2442",
   "metadata": {},
   "outputs": [
    {
     "data": {
      "text/plain": [
       "Pokemon\n",
       "Electrode    Electric\n",
       "Jolteon      Electric\n",
       "Name: Type, dtype: object"
      ]
     },
     "execution_count": 115,
     "metadata": {},
     "output_type": "execute_result"
    }
   ],
   "source": [
    "pokemon[0]\n",
    "pokemon[[100, 134]]"
   ]
  },
  {
   "cell_type": "code",
   "execution_count": 119,
   "id": "53423126",
   "metadata": {},
   "outputs": [
    {
     "data": {
      "text/plain": [
       "Pokemon\n",
       "Charizard        Fire\n",
       "Jolteon      Electric\n",
       "Meowth         Normal\n",
       "Name: Type, dtype: object"
      ]
     },
     "execution_count": 119,
     "metadata": {},
     "output_type": "execute_result"
    }
   ],
   "source": [
    "pokemon['Bulbasaur']\n",
    "pokemon['Mewtwo']\n",
    "\n",
    "pokemon[['Charizard', 'Jolteon', 'Meowth']]"
   ]
  },
  {
   "cell_type": "markdown",
   "id": "c4692a8c",
   "metadata": {},
   "source": [
    "# The get method on a series"
   ]
  },
  {
   "cell_type": "code",
   "execution_count": 121,
   "id": "bff25ea8",
   "metadata": {},
   "outputs": [
    {
     "data": {
      "text/plain": [
       "Pokemon\n",
       "Bulbasaur     Grass\n",
       "Ivysaur       Grass\n",
       "Venusaur      Grass\n",
       "Charmander     Fire\n",
       "Charmeleon     Fire\n",
       "Name: Type, dtype: object"
      ]
     },
     "execution_count": 121,
     "metadata": {},
     "output_type": "execute_result"
    }
   ],
   "source": [
    "pokemon = pd.read_csv('pandas/pokemon.csv', index_col = 'Pokemon').squeeze('columns')\n",
    "pokemon.head()"
   ]
  },
  {
   "cell_type": "code",
   "execution_count": 133,
   "id": "f3722ef3",
   "metadata": {},
   "outputs": [
    {
     "data": {
      "text/plain": [
       "'nop'"
      ]
     },
     "execution_count": 133,
     "metadata": {},
     "output_type": "execute_result"
    }
   ],
   "source": [
    "pokemon.get(0)\n",
    "pokemon.get('Bulbasaur')\n",
    "pokemon.get([5, 10])\n",
    "pokemon.get(['Moltres', 'Meowth'])\n",
    "\n",
    "# print(pokemon.get('Digmon'))\n",
    "\n",
    "pokemon.get([1,5])\n",
    "\n",
    "pokemon.get('Digmon', 'Nonexistent')\n",
    "\n",
    "pokemon.get(['Moltres', 'Digmon'], 'nonexistent')\n",
    "\n",
    "pokemon.get([0, 500, 1000000], 'nop')"
   ]
  },
  {
   "cell_type": "markdown",
   "id": "d7629a9f",
   "metadata": {},
   "source": [
    "# Overwrite a Series Value"
   ]
  },
  {
   "cell_type": "code",
   "execution_count": 3,
   "id": "115dfe67",
   "metadata": {},
   "outputs": [
    {
     "data": {
      "text/plain": [
       "0     Bulbasaur\n",
       "1       Ivysaur\n",
       "2      Venusaur\n",
       "3    Charmander\n",
       "4    Charmeleon\n",
       "Name: Pokemon, dtype: object"
      ]
     },
     "execution_count": 3,
     "metadata": {},
     "output_type": "execute_result"
    }
   ],
   "source": [
    "pokemon = pd.read_csv('pandas/pokemon.csv', usecols = ['Pokemon']).squeeze('columns')\n",
    "pokemon.head()"
   ]
  },
  {
   "cell_type": "code",
   "execution_count": 4,
   "id": "61af9a24",
   "metadata": {},
   "outputs": [
    {
     "data": {
      "text/plain": [
       "'Bulbasaur'"
      ]
     },
     "execution_count": 4,
     "metadata": {},
     "output_type": "execute_result"
    }
   ],
   "source": [
    "pokemon[0]"
   ]
  },
  {
   "cell_type": "code",
   "execution_count": 5,
   "id": "f29e59f3",
   "metadata": {},
   "outputs": [],
   "source": [
    "pokemon[0] = 'Borisaur'"
   ]
  },
  {
   "cell_type": "code",
   "execution_count": 6,
   "id": "a29cdae9",
   "metadata": {},
   "outputs": [
    {
     "data": {
      "text/plain": [
       "0      Borisaur\n",
       "1       Ivysaur\n",
       "2      Venusaur\n",
       "3    Charmander\n",
       "4    Charmeleon\n",
       "Name: Pokemon, dtype: object"
      ]
     },
     "execution_count": 6,
     "metadata": {},
     "output_type": "execute_result"
    }
   ],
   "source": [
    "pokemon.head()"
   ]
  },
  {
   "cell_type": "code",
   "execution_count": 7,
   "id": "a457b53c",
   "metadata": {},
   "outputs": [],
   "source": [
    "pokemon[1500] = 'Hello'"
   ]
  },
  {
   "cell_type": "code",
   "execution_count": 8,
   "id": "b4cf252e",
   "metadata": {},
   "outputs": [
    {
     "data": {
      "text/plain": [
       "0         Borisaur\n",
       "1          Ivysaur\n",
       "2         Venusaur\n",
       "3       Charmander\n",
       "4       Charmeleon\n",
       "           ...    \n",
       "717        Zygarde\n",
       "718        Diancie\n",
       "719          Hoopa\n",
       "720      Volcanion\n",
       "1500         Hello\n",
       "Name: Pokemon, Length: 722, dtype: object"
      ]
     },
     "execution_count": 8,
     "metadata": {},
     "output_type": "execute_result"
    }
   ],
   "source": [
    "pokemon"
   ]
  },
  {
   "cell_type": "code",
   "execution_count": 13,
   "id": "6711e906",
   "metadata": {},
   "outputs": [
    {
     "data": {
      "text/plain": [
       "0         Borisaur\n",
       "1          Firemon\n",
       "2         Flamenon\n",
       "3       Charmander\n",
       "4         Blazemon\n",
       "           ...    \n",
       "717        Zygarde\n",
       "718        Diancie\n",
       "719          Hoopa\n",
       "720      Volcanion\n",
       "1500         Hello\n",
       "Name: Pokemon, Length: 722, dtype: object"
      ]
     },
     "execution_count": 13,
     "metadata": {},
     "output_type": "execute_result"
    }
   ],
   "source": [
    "pokemon[[1,2,4]] = ['Firemon', 'Flamenon', 'Blazemon']\n",
    "pokemon"
   ]
  },
  {
   "cell_type": "code",
   "execution_count": 15,
   "id": "1d98181a",
   "metadata": {},
   "outputs": [
    {
     "data": {
      "text/plain": [
       "Pokemon\n",
       "Bulbasaur       Grass\n",
       "Ivysaur         Grass\n",
       "Venusaur        Grass\n",
       "Charmander       Fire\n",
       "Charmeleon       Fire\n",
       "               ...   \n",
       "Yveltal          Dark\n",
       "Zygarde        Dragon\n",
       "Diancie          Rock\n",
       "Hoopa         Psychic\n",
       "Volcanion        Fire\n",
       "Name: Type, Length: 721, dtype: object"
      ]
     },
     "execution_count": 15,
     "metadata": {},
     "output_type": "execute_result"
    }
   ],
   "source": [
    "pokemon = pd.read_csv('pandas/pokemon.csv', index_col = 'Pokemon').squeeze('columns')\n",
    "pokemon"
   ]
  },
  {
   "cell_type": "code",
   "execution_count": 16,
   "id": "c04382bd",
   "metadata": {},
   "outputs": [],
   "source": [
    "pokemon['Bulbasaur'] = 'Awesomenon'"
   ]
  },
  {
   "cell_type": "code",
   "execution_count": 18,
   "id": "efdea494",
   "metadata": {},
   "outputs": [],
   "source": [
    "pokemon[1] = 'Grassmon'"
   ]
  },
  {
   "cell_type": "code",
   "execution_count": 19,
   "id": "2ede1f9c",
   "metadata": {},
   "outputs": [
    {
     "data": {
      "text/plain": [
       "Pokemon\n",
       "Bulbasaur     Awesomenon\n",
       "Ivysaur         Grassmon\n",
       "Venusaur           Grass\n",
       "Charmander          Fire\n",
       "Charmeleon          Fire\n",
       "                 ...    \n",
       "Yveltal             Dark\n",
       "Zygarde           Dragon\n",
       "Diancie             Rock\n",
       "Hoopa            Psychic\n",
       "Volcanion           Fire\n",
       "Name: Type, Length: 721, dtype: object"
      ]
     },
     "execution_count": 19,
     "metadata": {},
     "output_type": "execute_result"
    }
   ],
   "source": [
    "pokemon"
   ]
  },
  {
   "cell_type": "markdown",
   "id": "8545b032",
   "metadata": {},
   "source": [
    "# The copy Method"
   ]
  },
  {
   "cell_type": "code",
   "execution_count": 24,
   "id": "ffc906d1",
   "metadata": {},
   "outputs": [],
   "source": [
    "pokemon_df = pd.read_csv('pandas/pokemon.csv', usecols = ['Pokemon'])\n",
    "pokemon_series = pokemon_df.squeeze('columns')"
   ]
  },
  {
   "cell_type": "code",
   "execution_count": 26,
   "id": "52295fd3",
   "metadata": {},
   "outputs": [],
   "source": [
    "pokemon_series[0] = 'whatevermon'"
   ]
  },
  {
   "cell_type": "code",
   "execution_count": 28,
   "id": "90be70e6",
   "metadata": {},
   "outputs": [
    {
     "data": {
      "text/plain": [
       "0    whatevermon\n",
       "Name: Pokemon, dtype: object"
      ]
     },
     "execution_count": 28,
     "metadata": {},
     "output_type": "execute_result"
    }
   ],
   "source": [
    "pokemon_series.head(1)"
   ]
  },
  {
   "cell_type": "code",
   "execution_count": 29,
   "id": "823325d3",
   "metadata": {
    "collapsed": true
   },
   "outputs": [
    {
     "data": {
      "text/html": [
       "<div>\n",
       "<style scoped>\n",
       "    .dataframe tbody tr th:only-of-type {\n",
       "        vertical-align: middle;\n",
       "    }\n",
       "\n",
       "    .dataframe tbody tr th {\n",
       "        vertical-align: top;\n",
       "    }\n",
       "\n",
       "    .dataframe thead th {\n",
       "        text-align: right;\n",
       "    }\n",
       "</style>\n",
       "<table border=\"1\" class=\"dataframe\">\n",
       "  <thead>\n",
       "    <tr style=\"text-align: right;\">\n",
       "      <th></th>\n",
       "      <th>Pokemon</th>\n",
       "    </tr>\n",
       "  </thead>\n",
       "  <tbody>\n",
       "    <tr>\n",
       "      <th>0</th>\n",
       "      <td>whatevermon</td>\n",
       "    </tr>\n",
       "    <tr>\n",
       "      <th>1</th>\n",
       "      <td>Ivysaur</td>\n",
       "    </tr>\n",
       "    <tr>\n",
       "      <th>2</th>\n",
       "      <td>Venusaur</td>\n",
       "    </tr>\n",
       "    <tr>\n",
       "      <th>3</th>\n",
       "      <td>Charmander</td>\n",
       "    </tr>\n",
       "    <tr>\n",
       "      <th>4</th>\n",
       "      <td>Charmeleon</td>\n",
       "    </tr>\n",
       "    <tr>\n",
       "      <th>...</th>\n",
       "      <td>...</td>\n",
       "    </tr>\n",
       "    <tr>\n",
       "      <th>716</th>\n",
       "      <td>Yveltal</td>\n",
       "    </tr>\n",
       "    <tr>\n",
       "      <th>717</th>\n",
       "      <td>Zygarde</td>\n",
       "    </tr>\n",
       "    <tr>\n",
       "      <th>718</th>\n",
       "      <td>Diancie</td>\n",
       "    </tr>\n",
       "    <tr>\n",
       "      <th>719</th>\n",
       "      <td>Hoopa</td>\n",
       "    </tr>\n",
       "    <tr>\n",
       "      <th>720</th>\n",
       "      <td>Volcanion</td>\n",
       "    </tr>\n",
       "  </tbody>\n",
       "</table>\n",
       "<p>721 rows × 1 columns</p>\n",
       "</div>"
      ],
      "text/plain": [
       "         Pokemon\n",
       "0    whatevermon\n",
       "1        Ivysaur\n",
       "2       Venusaur\n",
       "3     Charmander\n",
       "4     Charmeleon\n",
       "..           ...\n",
       "716      Yveltal\n",
       "717      Zygarde\n",
       "718      Diancie\n",
       "719        Hoopa\n",
       "720    Volcanion\n",
       "\n",
       "[721 rows x 1 columns]"
      ]
     },
     "execution_count": 29,
     "metadata": {},
     "output_type": "execute_result"
    }
   ],
   "source": [
    "pokemon_df"
   ]
  },
  {
   "cell_type": "code",
   "execution_count": 30,
   "id": "2629bcc8",
   "metadata": {},
   "outputs": [],
   "source": [
    "pokemon_df = pd.read_csv('pandas/pokemon.csv', usecols = ['Pokemon'])\n",
    "pokemon_series = pokemon_df.squeeze('columns').copy()"
   ]
  },
  {
   "cell_type": "code",
   "execution_count": 31,
   "id": "e1dccf99",
   "metadata": {},
   "outputs": [],
   "source": [
    "pokemon_series[0] = 'whatever'"
   ]
  },
  {
   "cell_type": "code",
   "execution_count": 32,
   "id": "1cb4fdc0",
   "metadata": {},
   "outputs": [
    {
     "data": {
      "text/plain": [
       "0    whatever\n",
       "Name: Pokemon, dtype: object"
      ]
     },
     "execution_count": 32,
     "metadata": {},
     "output_type": "execute_result"
    }
   ],
   "source": [
    "pokemon_series.head(1)"
   ]
  },
  {
   "cell_type": "code",
   "execution_count": 33,
   "id": "49123628",
   "metadata": {},
   "outputs": [
    {
     "data": {
      "text/html": [
       "<div>\n",
       "<style scoped>\n",
       "    .dataframe tbody tr th:only-of-type {\n",
       "        vertical-align: middle;\n",
       "    }\n",
       "\n",
       "    .dataframe tbody tr th {\n",
       "        vertical-align: top;\n",
       "    }\n",
       "\n",
       "    .dataframe thead th {\n",
       "        text-align: right;\n",
       "    }\n",
       "</style>\n",
       "<table border=\"1\" class=\"dataframe\">\n",
       "  <thead>\n",
       "    <tr style=\"text-align: right;\">\n",
       "      <th></th>\n",
       "      <th>Pokemon</th>\n",
       "    </tr>\n",
       "  </thead>\n",
       "  <tbody>\n",
       "    <tr>\n",
       "      <th>0</th>\n",
       "      <td>Bulbasaur</td>\n",
       "    </tr>\n",
       "    <tr>\n",
       "      <th>1</th>\n",
       "      <td>Ivysaur</td>\n",
       "    </tr>\n",
       "    <tr>\n",
       "      <th>2</th>\n",
       "      <td>Venusaur</td>\n",
       "    </tr>\n",
       "    <tr>\n",
       "      <th>3</th>\n",
       "      <td>Charmander</td>\n",
       "    </tr>\n",
       "    <tr>\n",
       "      <th>4</th>\n",
       "      <td>Charmeleon</td>\n",
       "    </tr>\n",
       "    <tr>\n",
       "      <th>...</th>\n",
       "      <td>...</td>\n",
       "    </tr>\n",
       "    <tr>\n",
       "      <th>716</th>\n",
       "      <td>Yveltal</td>\n",
       "    </tr>\n",
       "    <tr>\n",
       "      <th>717</th>\n",
       "      <td>Zygarde</td>\n",
       "    </tr>\n",
       "    <tr>\n",
       "      <th>718</th>\n",
       "      <td>Diancie</td>\n",
       "    </tr>\n",
       "    <tr>\n",
       "      <th>719</th>\n",
       "      <td>Hoopa</td>\n",
       "    </tr>\n",
       "    <tr>\n",
       "      <th>720</th>\n",
       "      <td>Volcanion</td>\n",
       "    </tr>\n",
       "  </tbody>\n",
       "</table>\n",
       "<p>721 rows × 1 columns</p>\n",
       "</div>"
      ],
      "text/plain": [
       "        Pokemon\n",
       "0     Bulbasaur\n",
       "1       Ivysaur\n",
       "2      Venusaur\n",
       "3    Charmander\n",
       "4    Charmeleon\n",
       "..          ...\n",
       "716     Yveltal\n",
       "717     Zygarde\n",
       "718     Diancie\n",
       "719       Hoopa\n",
       "720   Volcanion\n",
       "\n",
       "[721 rows x 1 columns]"
      ]
     },
     "execution_count": 33,
     "metadata": {},
     "output_type": "execute_result"
    }
   ],
   "source": [
    "pokemon_df"
   ]
  },
  {
   "cell_type": "markdown",
   "id": "9c6a1f81",
   "metadata": {},
   "source": [
    "# The inplace parameter"
   ]
  },
  {
   "cell_type": "code",
   "execution_count": 42,
   "id": "1094ada2",
   "metadata": {},
   "outputs": [
    {
     "data": {
      "text/plain": [
       "0        50.12\n",
       "1        54.10\n",
       "2        54.65\n",
       "3        52.38\n",
       "4        52.95\n",
       "         ...  \n",
       "3007    772.88\n",
       "3008    771.07\n",
       "3009    773.18\n",
       "3010    771.61\n",
       "3011    782.22\n",
       "Name: Stock Price, Length: 3012, dtype: float64"
      ]
     },
     "execution_count": 42,
     "metadata": {},
     "output_type": "execute_result"
    }
   ],
   "source": [
    "google = (\n",
    "    pd.read_csv('pandas/google_stock_price.csv', usecols = ['Stock Price'])\n",
    "    .squeeze('columns')\n",
    "    .copy()\n",
    ")\n",
    "google"
   ]
  },
  {
   "cell_type": "code",
   "execution_count": 38,
   "id": "e8bce27b",
   "metadata": {},
   "outputs": [
    {
     "data": {
      "text/plain": [
       "11       49.95\n",
       "9        50.07\n",
       "0        50.12\n",
       "10       50.70\n",
       "12       50.74\n",
       "         ...  \n",
       "3010    771.61\n",
       "3007    772.88\n",
       "3009    773.18\n",
       "2859    776.60\n",
       "3011    782.22\n",
       "Name: Stock Price, Length: 3012, dtype: float64"
      ]
     },
     "execution_count": 38,
     "metadata": {},
     "output_type": "execute_result"
    }
   ],
   "source": [
    "google = google.sort_values()\n",
    "google"
   ]
  },
  {
   "cell_type": "code",
   "execution_count": 43,
   "id": "7796815d",
   "metadata": {},
   "outputs": [
    {
     "data": {
      "text/plain": [
       "11       49.95\n",
       "9        50.07\n",
       "0        50.12\n",
       "10       50.70\n",
       "12       50.74\n",
       "         ...  \n",
       "3010    771.61\n",
       "3007    772.88\n",
       "3009    773.18\n",
       "2859    776.60\n",
       "3011    782.22\n",
       "Name: Stock Price, Length: 3012, dtype: float64"
      ]
     },
     "execution_count": 43,
     "metadata": {},
     "output_type": "execute_result"
    }
   ],
   "source": [
    "google.sort_values(inplace = True)\n",
    "google"
   ]
  },
  {
   "cell_type": "code",
   "execution_count": 47,
   "id": "fdde2a45",
   "metadata": {},
   "outputs": [
    {
     "data": {
      "text/plain": [
       "0        50.12\n",
       "1        54.10\n",
       "2        54.65\n",
       "3        52.38\n",
       "4        52.95\n",
       "         ...  \n",
       "3007    772.88\n",
       "3008    771.07\n",
       "3009    773.18\n",
       "3010    771.61\n",
       "3011    782.22\n",
       "Name: Stock Price, Length: 3012, dtype: float64"
      ]
     },
     "execution_count": 47,
     "metadata": {},
     "output_type": "execute_result"
    }
   ],
   "source": [
    "google.sort_index(inplace = True)\n",
    "google"
   ]
  },
  {
   "cell_type": "code",
   "execution_count": 48,
   "id": "4e4b5530",
   "metadata": {},
   "outputs": [
    {
     "data": {
      "text/plain": [
       "0        50.12\n",
       "1        54.10\n",
       "2        54.65\n",
       "3        52.38\n",
       "4        52.95\n",
       "         ...  \n",
       "3007    772.88\n",
       "3008    771.07\n",
       "3009    773.18\n",
       "3010    771.61\n",
       "3011    782.22\n",
       "Name: Stock Price, Length: 3012, dtype: float64"
      ]
     },
     "execution_count": 48,
     "metadata": {},
     "output_type": "execute_result"
    }
   ],
   "source": [
    "google = (\n",
    "    pd.read_csv('pandas/google_stock_price.csv', usecols = ['Stock Price'])\n",
    "    .squeeze('columns')\n",
    ")\n",
    "google"
   ]
  },
  {
   "cell_type": "code",
   "execution_count": 50,
   "id": "219ecb74",
   "metadata": {},
   "outputs": [
    {
     "ename": "ValueError",
     "evalue": "This Series is a view of some other array, to sort in-place you must create a copy",
     "output_type": "error",
     "traceback": [
      "\u001b[1;31m---------------------------------------------------------------------------\u001b[0m",
      "\u001b[1;31mValueError\u001b[0m                                Traceback (most recent call last)",
      "Input \u001b[1;32mIn [50]\u001b[0m, in \u001b[0;36m<cell line: 1>\u001b[1;34m()\u001b[0m\n\u001b[1;32m----> 1\u001b[0m \u001b[43mgoogle\u001b[49m\u001b[38;5;241;43m.\u001b[39;49m\u001b[43msort_values\u001b[49m\u001b[43m(\u001b[49m\u001b[43minplace\u001b[49m\u001b[43m \u001b[49m\u001b[38;5;241;43m=\u001b[39;49m\u001b[43m \u001b[49m\u001b[38;5;28;43;01mTrue\u001b[39;49;00m\u001b[43m)\u001b[49m\n",
      "File \u001b[1;32mC:\\ProgramData\\Anaconda3\\lib\\site-packages\\pandas\\util\\_decorators.py:311\u001b[0m, in \u001b[0;36mdeprecate_nonkeyword_arguments.<locals>.decorate.<locals>.wrapper\u001b[1;34m(*args, **kwargs)\u001b[0m\n\u001b[0;32m    305\u001b[0m \u001b[38;5;28;01mif\u001b[39;00m \u001b[38;5;28mlen\u001b[39m(args) \u001b[38;5;241m>\u001b[39m num_allow_args:\n\u001b[0;32m    306\u001b[0m     warnings\u001b[38;5;241m.\u001b[39mwarn(\n\u001b[0;32m    307\u001b[0m         msg\u001b[38;5;241m.\u001b[39mformat(arguments\u001b[38;5;241m=\u001b[39marguments),\n\u001b[0;32m    308\u001b[0m         \u001b[38;5;167;01mFutureWarning\u001b[39;00m,\n\u001b[0;32m    309\u001b[0m         stacklevel\u001b[38;5;241m=\u001b[39mstacklevel,\n\u001b[0;32m    310\u001b[0m     )\n\u001b[1;32m--> 311\u001b[0m \u001b[38;5;28;01mreturn\u001b[39;00m func(\u001b[38;5;241m*\u001b[39margs, \u001b[38;5;241m*\u001b[39m\u001b[38;5;241m*\u001b[39mkwargs)\n",
      "File \u001b[1;32mC:\\ProgramData\\Anaconda3\\lib\\site-packages\\pandas\\core\\series.py:3506\u001b[0m, in \u001b[0;36mSeries.sort_values\u001b[1;34m(self, axis, ascending, inplace, kind, na_position, ignore_index, key)\u001b[0m\n\u001b[0;32m   3504\u001b[0m \u001b[38;5;66;03m# GH 5856/5853\u001b[39;00m\n\u001b[0;32m   3505\u001b[0m \u001b[38;5;28;01mif\u001b[39;00m inplace \u001b[38;5;129;01mand\u001b[39;00m \u001b[38;5;28mself\u001b[39m\u001b[38;5;241m.\u001b[39m_is_cached:\n\u001b[1;32m-> 3506\u001b[0m     \u001b[38;5;28;01mraise\u001b[39;00m \u001b[38;5;167;01mValueError\u001b[39;00m(\n\u001b[0;32m   3507\u001b[0m         \u001b[38;5;124m\"\u001b[39m\u001b[38;5;124mThis Series is a view of some other array, to \u001b[39m\u001b[38;5;124m\"\u001b[39m\n\u001b[0;32m   3508\u001b[0m         \u001b[38;5;124m\"\u001b[39m\u001b[38;5;124msort in-place you must create a copy\u001b[39m\u001b[38;5;124m\"\u001b[39m\n\u001b[0;32m   3509\u001b[0m     )\n\u001b[0;32m   3511\u001b[0m \u001b[38;5;28;01mif\u001b[39;00m is_list_like(ascending):\n\u001b[0;32m   3512\u001b[0m     ascending \u001b[38;5;241m=\u001b[39m cast(Sequence[Union[\u001b[38;5;28mbool\u001b[39m, \u001b[38;5;28mint\u001b[39m]], ascending)\n",
      "\u001b[1;31mValueError\u001b[0m: This Series is a view of some other array, to sort in-place you must create a copy"
     ]
    }
   ],
   "source": [
    "google.sort_values(inplace = True)"
   ]
  },
  {
   "cell_type": "markdown",
   "id": "072fd55b",
   "metadata": {},
   "source": [
    "# Math Methods on Series Objects"
   ]
  },
  {
   "cell_type": "code",
   "execution_count": 54,
   "id": "574631f7",
   "metadata": {},
   "outputs": [
    {
     "data": {
      "text/plain": [
       "0        50.12\n",
       "1        54.10\n",
       "2        54.65\n",
       "3        52.38\n",
       "4        52.95\n",
       "         ...  \n",
       "3007    772.88\n",
       "3008    771.07\n",
       "3009    773.18\n",
       "3010    771.61\n",
       "3011    782.22\n",
       "Name: Stock Price, Length: 3012, dtype: float64"
      ]
     },
     "execution_count": 54,
     "metadata": {},
     "output_type": "execute_result"
    }
   ],
   "source": [
    "google = (\n",
    "    pd.read_csv('pandas/google_stock_price.csv', usecols = ['Stock Price'])\n",
    "    .squeeze('columns')\n",
    ")\n",
    "google"
   ]
  },
  {
   "cell_type": "code",
   "execution_count": 63,
   "id": "9d3e4b3e",
   "metadata": {},
   "outputs": [
    {
     "data": {
      "text/plain": [
       "count    3012.000000\n",
       "mean      334.310093\n",
       "std       173.187205\n",
       "min        49.950000\n",
       "25%       218.045000\n",
       "50%       283.315000\n",
       "75%       443.000000\n",
       "max       782.220000\n",
       "Name: Stock Price, dtype: float64"
      ]
     },
     "execution_count": 63,
     "metadata": {},
     "output_type": "execute_result"
    }
   ],
   "source": [
    "google.count()\n",
    "google.sum()\n",
    "google.mean()\n",
    "google.product()\n",
    "google.std()\n",
    "google.min()\n",
    "google.max()\n",
    "google.median()\n",
    "google.mode()\n",
    "google.describe()"
   ]
  },
  {
   "cell_type": "markdown",
   "id": "5739ddba",
   "metadata": {},
   "source": [
    "# Broadcasting"
   ]
  },
  {
   "cell_type": "code",
   "execution_count": 66,
   "id": "f88e5ea2",
   "metadata": {},
   "outputs": [
    {
     "data": {
      "text/plain": [
       "0    50.12\n",
       "1    54.10\n",
       "2    54.65\n",
       "3    52.38\n",
       "4    52.95\n",
       "Name: Stock Price, dtype: float64"
      ]
     },
     "execution_count": 66,
     "metadata": {},
     "output_type": "execute_result"
    }
   ],
   "source": [
    "google = (\n",
    "    pd.read_csv('pandas/google_stock_price.csv', usecols = ['Stock Price'])\n",
    "    .squeeze('columns')\n",
    ")\n",
    "\n",
    "google.head()"
   ]
  },
  {
   "cell_type": "code",
   "execution_count": 70,
   "id": "7f80ea77",
   "metadata": {},
   "outputs": [
    {
     "data": {
      "text/plain": [
       "0        60.12\n",
       "1        64.10\n",
       "2        64.65\n",
       "3        62.38\n",
       "4        62.95\n",
       "         ...  \n",
       "3007    782.88\n",
       "3008    781.07\n",
       "3009    783.18\n",
       "3010    781.61\n",
       "3011    792.22\n",
       "Name: Stock Price, Length: 3012, dtype: float64"
      ]
     },
     "execution_count": 70,
     "metadata": {},
     "output_type": "execute_result"
    }
   ],
   "source": [
    "google + 10\n",
    "google - 30\n",
    "google*2\n",
    "\n",
    "\n",
    "google.add(10)"
   ]
  },
  {
   "cell_type": "markdown",
   "id": "db8b08e3",
   "metadata": {},
   "source": [
    "# The value_counts Method"
   ]
  },
  {
   "cell_type": "code",
   "execution_count": 74,
   "id": "74abe1e0",
   "metadata": {},
   "outputs": [
    {
     "data": {
      "text/plain": [
       "Pokemon\n",
       "Bulbasaur     Grass\n",
       "Ivysaur       Grass\n",
       "Venusaur      Grass\n",
       "Charmander     Fire\n",
       "Charmeleon     Fire\n",
       "Name: Type, dtype: object"
      ]
     },
     "execution_count": 74,
     "metadata": {},
     "output_type": "execute_result"
    }
   ],
   "source": [
    "pokemon = (\n",
    "    pd.read_csv('pandas/pokemon.csv', index_col = 'Pokemon')\n",
    "    .squeeze('columns')\n",
    ")\n",
    "\n",
    "pokemon.head()"
   ]
  },
  {
   "cell_type": "code",
   "execution_count": 80,
   "id": "36b441f2",
   "metadata": {},
   "outputs": [
    {
     "data": {
      "text/plain": [
       "Water       14.563107\n",
       "Normal      12.898752\n",
       "Grass        9.153953\n",
       "Bug          8.737864\n",
       "Fire         6.518724\n",
       "Psychic      6.518724\n",
       "Rock         5.686546\n",
       "Electric     4.993065\n",
       "Ground       4.160888\n",
       "Poison       3.883495\n",
       "Dark         3.883495\n",
       "Fighting     3.467406\n",
       "Dragon       3.328710\n",
       "Ghost        3.190014\n",
       "Ice          3.190014\n",
       "Steel        3.051318\n",
       "Fairy        2.357836\n",
       "Flying       0.416089\n",
       "Name: Type, dtype: float64"
      ]
     },
     "execution_count": 80,
     "metadata": {},
     "output_type": "execute_result"
    }
   ],
   "source": [
    "pokemon.value_counts()\n",
    "pokemon.value_counts(ascending = True).head()\n",
    "\n",
    "pokemon.value_counts(sort = False)\n",
    "\n",
    "pokemon.value_counts(normalize = True)*100"
   ]
  },
  {
   "cell_type": "markdown",
   "id": "bce5eb1f",
   "metadata": {},
   "source": [
    "# The apply Method"
   ]
  },
  {
   "cell_type": "code",
   "execution_count": 81,
   "id": "c79883e5",
   "metadata": {},
   "outputs": [
    {
     "data": {
      "text/plain": [
       "Pokemon\n",
       "Bulbasaur     Grass\n",
       "Ivysaur       Grass\n",
       "Venusaur      Grass\n",
       "Charmander     Fire\n",
       "Charmeleon     Fire\n",
       "Name: Type, dtype: object"
      ]
     },
     "execution_count": 81,
     "metadata": {},
     "output_type": "execute_result"
    }
   ],
   "source": [
    "pokemon = (\n",
    "    pd.read_csv('pandas/pokemon.csv', index_col = 'Pokemon')\n",
    "    .squeeze('columns')\n",
    ")\n",
    "\n",
    "pokemon.head()"
   ]
  },
  {
   "cell_type": "code",
   "execution_count": 82,
   "id": "3679e1ca",
   "metadata": {},
   "outputs": [
    {
     "data": {
      "text/plain": [
       "Pokemon\n",
       "Bulbasaur     5\n",
       "Ivysaur       5\n",
       "Venusaur      5\n",
       "Charmander    4\n",
       "Charmeleon    4\n",
       "             ..\n",
       "Yveltal       4\n",
       "Zygarde       6\n",
       "Diancie       4\n",
       "Hoopa         7\n",
       "Volcanion     4\n",
       "Name: Type, Length: 721, dtype: int64"
      ]
     },
     "execution_count": 82,
     "metadata": {},
     "output_type": "execute_result"
    }
   ],
   "source": [
    "pokemon.apply(len)"
   ]
  },
  {
   "cell_type": "code",
   "execution_count": 85,
   "id": "d469ef6f",
   "metadata": {},
   "outputs": [],
   "source": [
    "def rank_pokemon(pokemon_type):\n",
    "    if pokemon_type in ['Grass', 'Fire', 'Water']:\n",
    "        return 'Classic'\n",
    "    elif pokemon_type == 'Normal':\n",
    "        return 'Boring'\n",
    "    else: \n",
    "        return 'TBD'"
   ]
  },
  {
   "cell_type": "code",
   "execution_count": 86,
   "id": "766ad3ea",
   "metadata": {},
   "outputs": [
    {
     "data": {
      "text/plain": [
       "Pokemon\n",
       "Bulbasaur     Classic\n",
       "Ivysaur       Classic\n",
       "Venusaur      Classic\n",
       "Charmander    Classic\n",
       "Charmeleon    Classic\n",
       "               ...   \n",
       "Yveltal           TBD\n",
       "Zygarde           TBD\n",
       "Diancie           TBD\n",
       "Hoopa             TBD\n",
       "Volcanion     Classic\n",
       "Name: Type, Length: 721, dtype: object"
      ]
     },
     "execution_count": 86,
     "metadata": {},
     "output_type": "execute_result"
    }
   ],
   "source": [
    "pokemon.apply(rank_pokemon)"
   ]
  },
  {
   "cell_type": "markdown",
   "id": "34c5495a",
   "metadata": {},
   "source": [
    "# The map Method"
   ]
  },
  {
   "cell_type": "code",
   "execution_count": 87,
   "id": "6146383a",
   "metadata": {},
   "outputs": [
    {
     "data": {
      "text/plain": [
       "Pokemon\n",
       "Bulbasaur     Grass\n",
       "Ivysaur       Grass\n",
       "Venusaur      Grass\n",
       "Charmander     Fire\n",
       "Charmeleon     Fire\n",
       "Name: Type, dtype: object"
      ]
     },
     "execution_count": 87,
     "metadata": {},
     "output_type": "execute_result"
    }
   ],
   "source": [
    "pokemon = (\n",
    "    pd.read_csv('pandas/pokemon.csv', index_col = 'Pokemon')\n",
    "    .squeeze('columns')\n",
    ")\n",
    "\n",
    "pokemon.head()"
   ]
  },
  {
   "cell_type": "code",
   "execution_count": 93,
   "id": "007c193f",
   "metadata": {},
   "outputs": [],
   "source": [
    "mappings = {\n",
    "    'Grass': 'Classic',\n",
    "    'Fire' : 'Classic',\n",
    "    'Water': 'Classic',\n",
    "    'Normal': 'Boring'\n",
    "}\n",
    "mappings_series = pd.Series(mappings)"
   ]
  },
  {
   "cell_type": "code",
   "execution_count": 94,
   "id": "f2617311",
   "metadata": {},
   "outputs": [
    {
     "data": {
      "text/plain": [
       "Pokemon\n",
       "Bulbasaur     Classic\n",
       "Ivysaur       Classic\n",
       "Venusaur      Classic\n",
       "Charmander    Classic\n",
       "Charmeleon    Classic\n",
       "               ...   \n",
       "Yveltal           NaN\n",
       "Zygarde           NaN\n",
       "Diancie           NaN\n",
       "Hoopa             NaN\n",
       "Volcanion     Classic\n",
       "Name: Type, Length: 721, dtype: object"
      ]
     },
     "execution_count": 94,
     "metadata": {},
     "output_type": "execute_result"
    }
   ],
   "source": [
    "pokemon.map(mappings_series)"
   ]
  },
  {
   "cell_type": "code",
   "execution_count": null,
   "id": "ef41e9ae",
   "metadata": {},
   "outputs": [],
   "source": []
  }
 ],
 "metadata": {
  "kernelspec": {
   "display_name": "Python 3 (ipykernel)",
   "language": "python",
   "name": "python3"
  },
  "language_info": {
   "codemirror_mode": {
    "name": "ipython",
    "version": 3
   },
   "file_extension": ".py",
   "mimetype": "text/x-python",
   "name": "python",
   "nbconvert_exporter": "python",
   "pygments_lexer": "ipython3",
   "version": "3.9.12"
  }
 },
 "nbformat": 4,
 "nbformat_minor": 5
}
